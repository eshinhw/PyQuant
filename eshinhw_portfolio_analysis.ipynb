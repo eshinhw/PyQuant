{
 "cells": [
  {
   "cell_type": "code",
   "execution_count": 1,
   "metadata": {},
   "outputs": [],
   "source": [
    "import os\n",
    "import sys\n",
    "\n",
    "currDir = os.getcwd()\n",
    "parentDir = os.path.abspath(os.path.join(currDir, os.pardir))\n",
    "sys.path.append(parentDir) # append parent path\n",
    "\n",
    "# print(currDir)\n",
    "# print(parentDir)"
   ]
  },
  {
   "cell_type": "code",
   "execution_count": 2,
   "metadata": {},
   "outputs": [],
   "source": [
    "import math\n",
    "import requests\n",
    "import numpy as np\n",
    "import pandas as pd\n",
    "import datetime as dt\n",
    "import matplotlib.pyplot as plt \n",
    "from utils.credentials import ESHINHW_ACCOUNT_TYPE, ESHINHW_QUESTRADE_API_CODE\n",
    "from questradeAPI import Questrade"
   ]
  },
  {
   "cell_type": "markdown",
   "metadata": {},
   "source": [
    "## Initialize QuestradeBot"
   ]
  },
  {
   "cell_type": "code",
   "execution_count": 5,
   "metadata": {
    "scrolled": true
   },
   "outputs": [
    {
     "name": "stdout",
     "output_type": "stream",
     "text": [
      "{}\n"
     ]
    }
   ],
   "source": [
    "USER_ID = 'eshinhw'\n",
    "qbot = Questrade(USER_ID)"
   ]
  },
  {
   "cell_type": "markdown",
   "metadata": {},
   "source": [
    "## Multiple Accounts Access"
   ]
  },
  {
   "cell_type": "code",
   "execution_count": null,
   "metadata": {},
   "outputs": [
    {
     "name": "stdout",
     "output_type": "stream",
     "text": [
      "{'positions': [{'averageEntryPrice': 196.88,\n",
      "                'closedPnl': 0,\n",
      "                'closedQuantity': 0,\n",
      "                'currentMarketValue': 547.2,\n",
      "                'currentPrice': 182.4,\n",
      "                'dayPnl': 4.8,\n",
      "                'isRealTime': False,\n",
      "                'isUnderReorg': False,\n",
      "                'openPnl': -43.44,\n",
      "                'openQuantity': 3,\n",
      "                'symbol': 'MMM',\n",
      "                'symbolId': 38677,\n",
      "                'totalCost': 590.64},\n",
      "               {'averageEntryPrice': 61.2,\n",
      "                'closedPnl': 0,\n",
      "                'closedQuantity': 0,\n",
      "                'currentMarketValue': 5540.25,\n",
      "                'currentPrice': 73.87,\n",
      "                'dayPnl': 159,\n",
      "                'isRealTime': False,\n",
      "                'isUnderReorg': False,\n",
      "                'openPnl': 950.25,\n",
      "                'openQuantity': 75,\n",
      "                'symbol': 'O',\n",
      "                'symbolId': 33821,\n",
      "                'totalCost': 4590},\n",
      "               {'averageEntryPrice': 153.46,\n",
      "                'closedPnl': 0,\n",
      "                'closedQuantity': 0,\n",
      "                'currentMarketValue': 1025.64,\n",
      "                'currentPrice': 170.94,\n",
      "                'dayPnl': -5.04,\n",
      "                'isRealTime': False,\n",
      "                'isUnderReorg': False,\n",
      "                'openPnl': 104.88,\n",
      "                'openQuantity': 6,\n",
      "                'symbol': 'JPM',\n",
      "                'symbolId': 24177,\n",
      "                'totalCost': 920.76},\n",
      "               {'averageEntryPrice': 195.68,\n",
      "                'closedPnl': 0,\n",
      "                'closedQuantity': 0,\n",
      "                'currentMarketValue': 707.4,\n",
      "                'currentPrice': 235.8,\n",
      "                'dayPnl': 4.32,\n",
      "                'isRealTime': False,\n",
      "                'isUnderReorg': False,\n",
      "                'openPnl': 120.36,\n",
      "                'openQuantity': 3,\n",
      "                'symbol': 'VTI',\n",
      "                'symbolId': 40571,\n",
      "                'totalCost': 587.04},\n",
      "               {'averageEntryPrice': 319.678,\n",
      "                'closedPnl': 0,\n",
      "                'closedQuantity': 0,\n",
      "                'currentMarketValue': 755.86,\n",
      "                'currentPrice': 377.93,\n",
      "                'dayPnl': 7.66,\n",
      "                'isRealTime': False,\n",
      "                'isUnderReorg': False,\n",
      "                'openPnl': 116.504,\n",
      "                'openQuantity': 2,\n",
      "                'symbol': 'QQQ',\n",
      "                'symbolId': 21806473,\n",
      "                'totalCost': 639.356},\n",
      "               {'averageEntryPrice': 151.67,\n",
      "                'closedPnl': 0,\n",
      "                'closedQuantity': 0,\n",
      "                'currentMarketValue': 575.64,\n",
      "                'currentPrice': 143.91,\n",
      "                'dayPnl': -0.88,\n",
      "                'isRealTime': False,\n",
      "                'isUnderReorg': False,\n",
      "                'openPnl': -31.04,\n",
      "                'openQuantity': 4,\n",
      "                'symbol': 'TLT',\n",
      "                'symbolId': 23803,\n",
      "                'totalCost': 606.68},\n",
      "               {'averageEntryPrice': 118.64,\n",
      "                'closedPnl': 0,\n",
      "                'closedQuantity': 0,\n",
      "                'currentMarketValue': 570.5,\n",
      "                'currentPrice': 114.1,\n",
      "                'dayPnl': 0.7,\n",
      "                'isRealTime': False,\n",
      "                'isUnderReorg': False,\n",
      "                'openPnl': -22.7,\n",
      "                'openQuantity': 5,\n",
      "                'symbol': 'IEF',\n",
      "                'symbolId': 23804,\n",
      "                'totalCost': 593.2}]}\n",
      "params\n",
      "{'prefix': 'MMM'}\n",
      "https://api05.iq.questrade.com/v1/symbols/search?prefix=MMM\n",
      "params\n",
      "{'prefix': 'MMM'}\n",
      "https://api05.iq.questrade.com/v1/symbols/search?prefix=MMM\n",
      "params\n",
      "{'prefix': 'O'}\n",
      "https://api05.iq.questrade.com/v1/symbols/search?prefix=O\n",
      "params\n",
      "{'prefix': 'O'}\n",
      "https://api05.iq.questrade.com/v1/symbols/search?prefix=O\n",
      "params\n",
      "{'prefix': 'JPM'}\n",
      "https://api05.iq.questrade.com/v1/symbols/search?prefix=JPM\n",
      "params\n",
      "{'prefix': 'JPM'}\n",
      "https://api05.iq.questrade.com/v1/symbols/search?prefix=JPM\n",
      "params\n",
      "{'prefix': 'VTI'}\n",
      "https://api05.iq.questrade.com/v1/symbols/search?prefix=VTI\n",
      "params\n",
      "{'prefix': 'VTI'}\n",
      "https://api05.iq.questrade.com/v1/symbols/search?prefix=VTI\n"
     ]
    }
   ],
   "source": [
    "acctData = {}\n",
    "acctNums = qbot.accounts\n",
    "ACCOUNT_TYPE = ESHINHW_ACCOUNT_TYPE\n",
    "for aNum in acctNums:\n",
    "    if aNum in ACCOUNT_TYPE:\n",
    "        aName = ACCOUNT_TYPE[aNum]        \n",
    "        if aName == 'Stock Portfolio':\n",
    "            stock_bal = qbot.account_balances(aNum)\n",
    "            stock_portfolio = qbot.account_positions(aNum)\n",
    "            print(stock_portfolio)\n",
    "            stock_return = qbot.portfolio_return(aNum)\n",
    "#             stock_dividends = qbot.get_dividend_income(aNum)\n",
    "#         if aName == 'Quant Portfolio':\n",
    "#             quant_bal = qbot.get_balance(aNum)\n",
    "#             quant_portfolio = qbot.get_investment_summary(aNum)\n",
    "#             quant_return = (quant_portfolio['Return (%)'].dot(quant_portfolio['Portfolio (%)'])) / 100\n",
    "#             quant_dividends = qbot.get_dividend_income(aNum) \n",
    "    else:\n",
    "        print(\"Please define portfolio first in credentials.py\")"
   ]
  },
  {
   "cell_type": "markdown",
   "metadata": {},
   "source": [
    "## US Stock Investing"
   ]
  },
  {
   "cell_type": "markdown",
   "metadata": {},
   "source": [
    "### Stock Portfolio Balance"
   ]
  },
  {
   "cell_type": "code",
   "execution_count": null,
   "metadata": {},
   "outputs": [],
   "source": [
    "stock_bal"
   ]
  },
  {
   "cell_type": "markdown",
   "metadata": {},
   "source": [
    "### Stock Portfolio"
   ]
  },
  {
   "cell_type": "code",
   "execution_count": null,
   "metadata": {},
   "outputs": [],
   "source": [
    "stock_portfolio"
   ]
  },
  {
   "cell_type": "code",
   "execution_count": null,
   "metadata": {},
   "outputs": [],
   "source": [
    "stock_portfolio['Portfolio (%)'].plot(kind='pie',\n",
    "                             title='Portfolio Breakdown',\n",
    "                             figsize=(10, 10),\n",
    "                             legend=True)"
   ]
  },
  {
   "cell_type": "markdown",
   "metadata": {},
   "source": [
    "### Stock Portfolio Return"
   ]
  },
  {
   "cell_type": "code",
   "execution_count": null,
   "metadata": {},
   "outputs": [],
   "source": [
    "stock_return"
   ]
  },
  {
   "cell_type": "markdown",
   "metadata": {},
   "source": [
    "### Stock Dividends"
   ]
  },
  {
   "cell_type": "code",
   "execution_count": null,
   "metadata": {},
   "outputs": [],
   "source": [
    "stock_dividends.loc['Total'] = stock_dividends.sum(numeric_only=True, axis=0)\n",
    "stock_dividends.tail()"
   ]
  },
  {
   "cell_type": "markdown",
   "metadata": {},
   "source": [
    "## TAA Quantitative Investing"
   ]
  },
  {
   "cell_type": "markdown",
   "metadata": {},
   "source": [
    "### Quant Balance"
   ]
  },
  {
   "cell_type": "code",
   "execution_count": null,
   "metadata": {},
   "outputs": [],
   "source": [
    "quant_bal"
   ]
  },
  {
   "cell_type": "markdown",
   "metadata": {},
   "source": [
    "### Quant Portfolio"
   ]
  },
  {
   "cell_type": "code",
   "execution_count": null,
   "metadata": {},
   "outputs": [],
   "source": [
    "quant_portfolio"
   ]
  },
  {
   "cell_type": "code",
   "execution_count": null,
   "metadata": {},
   "outputs": [],
   "source": [
    "quant_portfolio['Portfolio (%)'].plot(kind='pie',\n",
    "                             title='Portfolio Breakdown',\n",
    "                             figsize=(10, 10),\n",
    "                             legend=True)"
   ]
  },
  {
   "cell_type": "markdown",
   "metadata": {},
   "source": [
    "### Quant Portfolio Return"
   ]
  },
  {
   "cell_type": "code",
   "execution_count": null,
   "metadata": {},
   "outputs": [],
   "source": [
    "quant_return"
   ]
  },
  {
   "cell_type": "markdown",
   "metadata": {},
   "source": [
    "### Quant Dividends"
   ]
  },
  {
   "cell_type": "code",
   "execution_count": null,
   "metadata": {},
   "outputs": [],
   "source": [
    "quant_dividends.loc['Total'] = quant_dividends.sum(numeric_only=True, axis=0)\n",
    "quant_dividends.tail()"
   ]
  },
  {
   "cell_type": "code",
   "execution_count": null,
   "metadata": {},
   "outputs": [],
   "source": [
    "quant_dividends[:-1].plot(kind='bar',\n",
    "                    title='Monthly Dividend Payments',\n",
    "                    xlabel='Months',\n",
    "                    ylabel='Dividend ($)',\n",
    "                    figsize=(15, 10),\n",
    "                    legend=False,\n",
    "                    ylim=(0, 30))"
   ]
  }
 ],
 "metadata": {
  "kernelspec": {
   "display_name": "Python 3 (ipykernel)",
   "language": "python",
   "name": "python3"
  },
  "language_info": {
   "codemirror_mode": {
    "name": "ipython",
    "version": 3
   },
   "file_extension": ".py",
   "mimetype": "text/x-python",
   "name": "python",
   "nbconvert_exporter": "python",
   "pygments_lexer": "ipython3",
   "version": "3.8.12"
  },
  "toc": {
   "base_numbering": 1,
   "nav_menu": {},
   "number_sections": false,
   "sideBar": true,
   "skip_h1_title": true,
   "title_cell": "Table of Contents",
   "title_sidebar": "Contents",
   "toc_cell": false,
   "toc_position": {
    "height": "calc(100% - 180px)",
    "left": "10px",
    "top": "150px",
    "width": "384px"
   },
   "toc_section_display": true,
   "toc_window_display": true
  },
  "varInspector": {
   "cols": {
    "lenName": 16,
    "lenType": 16,
    "lenVar": 40
   },
   "kernels_config": {
    "python": {
     "delete_cmd_postfix": "",
     "delete_cmd_prefix": "del ",
     "library": "var_list.py",
     "varRefreshCmd": "print(var_dic_list())"
    },
    "r": {
     "delete_cmd_postfix": ") ",
     "delete_cmd_prefix": "rm(",
     "library": "var_list.r",
     "varRefreshCmd": "cat(var_dic_list()) "
    }
   },
   "types_to_exclude": [
    "module",
    "function",
    "builtin_function_or_method",
    "instance",
    "_Feature"
   ],
   "window_display": false
  }
 },
 "nbformat": 4,
 "nbformat_minor": 4
}
