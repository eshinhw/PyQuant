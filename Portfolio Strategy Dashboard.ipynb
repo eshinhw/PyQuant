{
 "cells": [
  {
   "cell_type": "code",
   "execution_count": 1,
   "id": "1f8ae6b7",
   "metadata": {},
   "outputs": [],
   "source": [
    "import pandas as pd\n",
    "import matplotlib.pyplot as plt"
   ]
  },
  {
   "cell_type": "markdown",
   "id": "148dfb64",
   "metadata": {},
   "source": [
    "## Import Portfolio Classes"
   ]
  },
  {
   "cell_type": "code",
   "execution_count": 2,
   "id": "6c108748",
   "metadata": {},
   "outputs": [],
   "source": [
    "from vaa import VAA\n",
    "from fixed_allocations import SPY, SixtyForty, FourSeasons, AllWeather, Permanent\n",
    "\n",
    "vaa = VAA()\n",
    "spy = SPY()\n",
    "sf = SixtyForty()\n",
    "fs = FourSeasons()\n",
    "aw = AllWeather()\n",
    "permanent = Permanent()\n",
    "\n",
    "port = [vaa, spy, sf, fs, aw, permanent]"
   ]
  },
  {
   "cell_type": "code",
   "execution_count": 3,
   "id": "f1ca52d4",
   "metadata": {},
   "outputs": [
    {
     "data": {
      "text/plain": [
       "{'VAA': {'CAGR': 0.0873578362298395, 'MDD': -0.09203219914883781},\n",
       " '100% SPY': {'CAGR': 0.12161850784735462, 'MDD': -0.48580665964978953},\n",
       " '60 Stocks / 40 Bonds': {'CAGR': 0.07366536197735063,\n",
       "  'MDD': -0.31904658985950946},\n",
       " 'Four Seasons': {'CAGR': 0.07651532659479043, 'MDD': -0.1357921129281003},\n",
       " 'All Weather': {'CAGR': 0.08168381498395849, 'MDD': -0.10782697585381198},\n",
       " 'Permanent': {'CAGR': 0.08298434924119746, 'MDD': -0.1478417421099386}}"
      ]
     },
     "execution_count": 3,
     "metadata": {},
     "output_type": "execute_result"
    }
   ],
   "source": [
    "strategies = {}\n",
    "\n",
    "for p in port:\n",
    "    names[str(p)] = {}\n",
    "    names[str(p)]['CAGR'] = p.cagr()\n",
    "    names[str(p)]['MDD'] = p.mdd()\n",
    "\n",
    "strategies"
   ]
  },
  {
   "cell_type": "markdown",
   "id": "c99c9545",
   "metadata": {},
   "source": [
    "## CAGR and MDD Comparison"
   ]
  },
  {
   "cell_type": "code",
   "execution_count": null,
   "id": "73079d5c",
   "metadata": {},
   "outputs": [],
   "source": [
    "# strategies = {'VAA': {'CAGR': vaa.cagr(), 'MDD': vaa.mdd()},\n",
    "#               'SPY': {'CAGR': spy.cagr(), 'MDD': spy.mdd()},\n",
    "#               'SixtyForty': {'CAGR': sf.cagr(), 'MDD': sf.mdd()},\n",
    "#               'FourSeasons': {'CAGR': fs.cagr(), 'MDD': fs.mdd()},\n",
    "#               'AllWeather': {'CAGR': aw.cagr(), 'MDD': aw.mdd()},\n",
    "#               'Permanent': {'CAGR': permanent.cagr(), 'MDD': permanent.mdd()}                \n",
    "#              }"
   ]
  },
  {
   "cell_type": "code",
   "execution_count": null,
   "id": "e0aff965",
   "metadata": {},
   "outputs": [],
   "source": [
    "summary = pd.DataFrame(strategies)\n",
    "summary"
   ]
  },
  {
   "cell_type": "code",
   "execution_count": null,
   "id": "67ce0a6c",
   "metadata": {},
   "outputs": [],
   "source": [
    "cum_returns = {'VAA': vaa.port_cum_returns,\n",
    "               'SPY': spy.port_cum_returns,\n",
    "               'SixtyForty': sf.port_cum_returns,\n",
    "               'FourSeasons': fs.port_cum_returns,\n",
    "               'AllWeather': aw.port_cum_returns,\n",
    "               'Permanent': permanent.port_cum_returns}"
   ]
  },
  {
   "cell_type": "code",
   "execution_count": null,
   "id": "1c9d2092",
   "metadata": {},
   "outputs": [],
   "source": [
    "df_cum_returns = pd.DataFrame(cum_returns)\n",
    "df_cum_returns.dropna(inplace=True)\n",
    "df_cum_returns"
   ]
  },
  {
   "cell_type": "code",
   "execution_count": null,
   "id": "2b589561",
   "metadata": {},
   "outputs": [],
   "source": [
    "for port in df_cum_returns.columns:\n",
    "    df_cum_returns[port] = df_cum_returns[port] / df_cum_returns.loc[df_cum_returns.index[0],port]"
   ]
  },
  {
   "cell_type": "code",
   "execution_count": null,
   "id": "a3972cdd",
   "metadata": {},
   "outputs": [],
   "source": [
    "df_cum_returns"
   ]
  },
  {
   "cell_type": "code",
   "execution_count": null,
   "id": "27c58f5c",
   "metadata": {},
   "outputs": [],
   "source": [
    "### Backtesting Performance Comparison (All Portfolios)\n",
    "plt.figure(figsize=(15,10))\n",
    "plt.plot(df_cum_returns)\n",
    "plt.legend(df_cum_returns.columns)\n",
    "plt.xlabel('Date')\n",
    "plt.ylabel('Returns')\n",
    "plt.title('Portfolio Performance Comparison')\n",
    "### Backtesting Performance Comparison (Original VAA, 60/40, SPY)\n",
    "# sub_df = combined_df[['VAA/Original', '60/40', 'SPY']]\n",
    "# plt.figure(figsize=(15,10))\n",
    "# plt.plot(sub_df)\n",
    "# plt.legend(sub_df.columns)\n",
    "# plt.xlabel('Date')\n",
    "# plt.ylabel('Returns')\n",
    "# plt.title('Portfolio Performance Comparison')"
   ]
  },
  {
   "cell_type": "code",
   "execution_count": null,
   "id": "07f665b1",
   "metadata": {},
   "outputs": [],
   "source": []
  }
 ],
 "metadata": {
  "kernelspec": {
   "display_name": "Python 3 (ipykernel)",
   "language": "python",
   "name": "python3"
  },
  "language_info": {
   "codemirror_mode": {
    "name": "ipython",
    "version": 3
   },
   "file_extension": ".py",
   "mimetype": "text/x-python",
   "name": "python",
   "nbconvert_exporter": "python",
   "pygments_lexer": "ipython3",
   "version": "3.9.7"
  }
 },
 "nbformat": 4,
 "nbformat_minor": 5
}
