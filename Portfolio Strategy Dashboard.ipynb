{
 "cells": [
  {
   "cell_type": "code",
   "execution_count": 7,
   "id": "972fc673",
   "metadata": {},
   "outputs": [],
   "source": [
    "import pandas as pd\n",
    "\n",
    "from vaa import VAA\n",
    "from fixed_allocations import SPY"
   ]
  },
  {
   "cell_type": "code",
   "execution_count": 8,
   "id": "3f9da11a",
   "metadata": {},
   "outputs": [],
   "source": [
    "vaa = VAA()\n",
    "spy = SPY()"
   ]
  },
  {
   "cell_type": "code",
   "execution_count": 9,
   "id": "9bd32a84",
   "metadata": {},
   "outputs": [],
   "source": [
    "strategies = {'VAA': {'CAGR': vaa.cagr(), 'MDD': vaa.mdd()},\n",
    "             'SPY': {'CAGR': spy.cagr(), 'MDD': spy.mdd()}}"
   ]
  },
  {
   "cell_type": "code",
   "execution_count": 10,
   "id": "3e1061f6",
   "metadata": {},
   "outputs": [],
   "source": [
    "cum_returns = {'VAA': vaa.port_cum_returns, \n",
    "              'SPY': spy.port_cum_returns}"
   ]
  },
  {
   "cell_type": "code",
   "execution_count": 12,
   "id": "5d4cd4c2",
   "metadata": {},
   "outputs": [
    {
     "data": {
      "text/html": [
       "<div>\n",
       "<style scoped>\n",
       "    .dataframe tbody tr th:only-of-type {\n",
       "        vertical-align: middle;\n",
       "    }\n",
       "\n",
       "    .dataframe tbody tr th {\n",
       "        vertical-align: top;\n",
       "    }\n",
       "\n",
       "    .dataframe thead th {\n",
       "        text-align: right;\n",
       "    }\n",
       "</style>\n",
       "<table border=\"1\" class=\"dataframe\">\n",
       "  <thead>\n",
       "    <tr style=\"text-align: right;\">\n",
       "      <th></th>\n",
       "      <th>VAA</th>\n",
       "      <th>SPY</th>\n",
       "    </tr>\n",
       "  </thead>\n",
       "  <tbody>\n",
       "    <tr>\n",
       "      <th>2008-10-31</th>\n",
       "      <td>1.000000</td>\n",
       "      <td>1.997012</td>\n",
       "    </tr>\n",
       "    <tr>\n",
       "      <th>2008-12-31</th>\n",
       "      <td>0.980311</td>\n",
       "      <td>1.759779</td>\n",
       "    </tr>\n",
       "    <tr>\n",
       "      <th>2009-03-31</th>\n",
       "      <td>0.980311</td>\n",
       "      <td>1.934606</td>\n",
       "    </tr>\n",
       "    <tr>\n",
       "      <th>2009-04-30</th>\n",
       "      <td>0.980311</td>\n",
       "      <td>2.034855</td>\n",
       "    </tr>\n",
       "    <tr>\n",
       "      <th>2009-06-30</th>\n",
       "      <td>0.980311</td>\n",
       "      <td>2.186667</td>\n",
       "    </tr>\n",
       "    <tr>\n",
       "      <th>...</th>\n",
       "      <td>...</td>\n",
       "      <td>...</td>\n",
       "    </tr>\n",
       "    <tr>\n",
       "      <th>2021-06-30</th>\n",
       "      <td>1.843084</td>\n",
       "      <td>9.993029</td>\n",
       "    </tr>\n",
       "    <tr>\n",
       "      <th>2021-08-31</th>\n",
       "      <td>1.751575</td>\n",
       "      <td>9.496874</td>\n",
       "    </tr>\n",
       "    <tr>\n",
       "      <th>2021-09-30</th>\n",
       "      <td>1.751575</td>\n",
       "      <td>10.081549</td>\n",
       "    </tr>\n",
       "    <tr>\n",
       "      <th>2021-11-30</th>\n",
       "      <td>1.751575</td>\n",
       "      <td>10.510871</td>\n",
       "    </tr>\n",
       "    <tr>\n",
       "      <th>2021-12-31</th>\n",
       "      <td>1.751575</td>\n",
       "      <td>9.956515</td>\n",
       "    </tr>\n",
       "  </tbody>\n",
       "</table>\n",
       "<p>110 rows × 2 columns</p>\n",
       "</div>"
      ],
      "text/plain": [
       "                 VAA        SPY\n",
       "2008-10-31  1.000000   1.997012\n",
       "2008-12-31  0.980311   1.759779\n",
       "2009-03-31  0.980311   1.934606\n",
       "2009-04-30  0.980311   2.034855\n",
       "2009-06-30  0.980311   2.186667\n",
       "...              ...        ...\n",
       "2021-06-30  1.843084   9.993029\n",
       "2021-08-31  1.751575   9.496874\n",
       "2021-09-30  1.751575  10.081549\n",
       "2021-11-30  1.751575  10.510871\n",
       "2021-12-31  1.751575   9.956515\n",
       "\n",
       "[110 rows x 2 columns]"
      ]
     },
     "execution_count": 12,
     "metadata": {},
     "output_type": "execute_result"
    }
   ],
   "source": [
    "df_cum_returns = pd.DataFrame(cum_returns)\n",
    "df_cum_returns.dropna(inplace=True)\n",
    "df_cum_returns"
   ]
  },
  {
   "cell_type": "code",
   "execution_count": null,
   "id": "043580d9",
   "metadata": {},
   "outputs": [],
   "source": []
  },
  {
   "cell_type": "code",
   "execution_count": null,
   "id": "63cc039d",
   "metadata": {},
   "outputs": [],
   "source": []
  },
  {
   "cell_type": "code",
   "execution_count": null,
   "id": "659d1230",
   "metadata": {},
   "outputs": [],
   "source": []
  }
 ],
 "metadata": {
  "kernelspec": {
   "display_name": "Python 3 (ipykernel)",
   "language": "python",
   "name": "python3"
  },
  "language_info": {
   "codemirror_mode": {
    "name": "ipython",
    "version": 3
   },
   "file_extension": ".py",
   "mimetype": "text/x-python",
   "name": "python",
   "nbconvert_exporter": "python",
   "pygments_lexer": "ipython3",
   "version": "3.9.7"
  }
 },
 "nbformat": 4,
 "nbformat_minor": 5
}
