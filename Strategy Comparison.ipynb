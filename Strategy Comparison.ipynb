{
 "cells": [
  {
   "cell_type": "code",
   "execution_count": 6,
   "id": "a2e991a2",
   "metadata": {},
   "outputs": [],
   "source": [
    "import requests\n",
    "import pandas as pd"
   ]
  },
  {
   "cell_type": "code",
   "execution_count": 7,
   "id": "e405c7ef",
   "metadata": {},
   "outputs": [],
   "source": [
    "url_y1 = 'https://www.quantist.co.kr/status_y1'\n",
    "url_y3 = 'https://www.quantist.co.kr/status_y3'\n",
    "url_y5 = 'https://www.quantist.co.kr/status_y5'\n",
    "url_y10  = 'https://www.quantist.co.kr/status_y10'\n",
    "url_list = [url_y1, url_y3, url_y5, url_y10]"
   ]
  },
  {
   "cell_type": "code",
   "execution_count": 8,
   "id": "49d83abd",
   "metadata": {},
   "outputs": [
    {
     "data": {
      "text/plain": [
       "['VAA',\n",
       " 'DAA',\n",
       " 'PAA',\n",
       " 'LAA',\n",
       " 'DM',\n",
       " 'CDM',\n",
       " 'ADM',\n",
       " 'MDM',\n",
       " 'GTAA',\n",
       " 'CP',\n",
       " 'PP',\n",
       " 'AS']"
      ]
     },
     "execution_count": 8,
     "metadata": {},
     "output_type": "execute_result"
    }
   ],
   "source": [
    "strategy_dict = {'Port': [], 'CAGR': [], 'MDD': [], 'Sharpe': []}\n",
    "\n",
    "data = pd.read_html(url_y1)\n",
    "\n",
    "for i in range(0,2):\n",
    "    for col in data[i].columns[1:]:\n",
    "        strategy_dict['Port'].append(col)\n",
    "        \n",
    "strategy_dict['Port']"
   ]
  },
  {
   "cell_type": "code",
   "execution_count": 9,
   "id": "9090559f",
   "metadata": {},
   "outputs": [
    {
     "name": "stdout",
     "output_type": "stream",
     "text": [
      "1 12\n",
      "2 12\n",
      "3 12\n",
      "4 12\n",
      "5 12\n",
      "6 12\n",
      "7 12\n",
      "8 12\n",
      "9 12\n",
      "10 12\n",
      "11 12\n",
      "12 12\n"
     ]
    }
   ],
   "source": [
    "n = 1\n",
    "total = len(strategy_dict['Port'])\n",
    "for col in strategy_dict['Port']:\n",
    "    print(n,total)\n",
    "    d1 = pd.read_html(url_y1)\n",
    "    for i in range(0,2):\n",
    "        if col in d1[i].columns:\n",
    "            cagr1 = d1[i][col][1]\n",
    "            mdd1 = d1[i][col][7]\n",
    "            sharpe1 = d1[i][col][3]\n",
    "\n",
    "    d3 = pd.read_html(url_y3)\n",
    "    for i in range(0,2):\n",
    "        if col in d1[i].columns:\n",
    "            cagr3 = d3[i][col][1]\n",
    "            mdd3 = d3[i][col][7]\n",
    "            sharpe3 = d3[i][col][3]\n",
    "\n",
    "    d5 = pd.read_html(url_y5)\n",
    "    for i in range(0,2):\n",
    "        if col in d1[i].columns:\n",
    "            cagr5 = d5[i][col][1]\n",
    "            mdd5 = d5[i][col][7]\n",
    "            sharpe5 = d5[i][col][3]\n",
    "\n",
    "    d10 = pd.read_html(url_y10)\n",
    "    for i in range(0,2):\n",
    "        if col in d1[i].columns:\n",
    "            cagr10 = d10[i][col][1]\n",
    "            mdd10 = d10[i][col][7]\n",
    "            sharpe10 = d10[i][col][3]\n",
    "\n",
    "    strategy_dict['CAGR'].append((cagr1 + cagr3 + cagr5 + cagr10) / 4)\n",
    "    strategy_dict['MDD'].append((mdd1 + mdd3 + mdd5 + mdd10) / 4)\n",
    "    strategy_dict['Sharpe'].append((sharpe1 + sharpe3 + sharpe5 + sharpe10) / 4)\n",
    "    n += 1"
   ]
  },
  {
   "cell_type": "code",
   "execution_count": 11,
   "id": "fabb691b",
   "metadata": {},
   "outputs": [],
   "source": [
    "strategy_dict\n",
    "\n",
    "final = pd.DataFrame(strategy_dict)"
   ]
  },
  {
   "cell_type": "code",
   "execution_count": 14,
   "id": "ce12245a",
   "metadata": {},
   "outputs": [],
   "source": [
    "final.sort_values(by=['Sharpe'], ascending=False, inplace=True)"
   ]
  },
  {
   "cell_type": "code",
   "execution_count": 15,
   "id": "d1420017",
   "metadata": {},
   "outputs": [
    {
     "data": {
      "text/html": [
       "<div>\n",
       "<style scoped>\n",
       "    .dataframe tbody tr th:only-of-type {\n",
       "        vertical-align: middle;\n",
       "    }\n",
       "\n",
       "    .dataframe tbody tr th {\n",
       "        vertical-align: top;\n",
       "    }\n",
       "\n",
       "    .dataframe thead th {\n",
       "        text-align: right;\n",
       "    }\n",
       "</style>\n",
       "<table border=\"1\" class=\"dataframe\">\n",
       "  <thead>\n",
       "    <tr style=\"text-align: right;\">\n",
       "      <th></th>\n",
       "      <th>Port</th>\n",
       "      <th>CAGR</th>\n",
       "      <th>MDD</th>\n",
       "      <th>Sharpe</th>\n",
       "    </tr>\n",
       "  </thead>\n",
       "  <tbody>\n",
       "    <tr>\n",
       "      <th>11</th>\n",
       "      <td>AS</td>\n",
       "      <td>8.900</td>\n",
       "      <td>-4.875</td>\n",
       "      <td>1.1725</td>\n",
       "    </tr>\n",
       "    <tr>\n",
       "      <th>9</th>\n",
       "      <td>CP</td>\n",
       "      <td>10.600</td>\n",
       "      <td>-7.975</td>\n",
       "      <td>1.1350</td>\n",
       "    </tr>\n",
       "    <tr>\n",
       "      <th>3</th>\n",
       "      <td>LAA</td>\n",
       "      <td>10.650</td>\n",
       "      <td>-6.800</td>\n",
       "      <td>1.1325</td>\n",
       "    </tr>\n",
       "    <tr>\n",
       "      <th>8</th>\n",
       "      <td>GTAA</td>\n",
       "      <td>9.075</td>\n",
       "      <td>-5.075</td>\n",
       "      <td>1.0900</td>\n",
       "    </tr>\n",
       "    <tr>\n",
       "      <th>10</th>\n",
       "      <td>PP</td>\n",
       "      <td>7.475</td>\n",
       "      <td>-4.775</td>\n",
       "      <td>1.0550</td>\n",
       "    </tr>\n",
       "    <tr>\n",
       "      <th>7</th>\n",
       "      <td>MDM</td>\n",
       "      <td>14.900</td>\n",
       "      <td>-16.575</td>\n",
       "      <td>0.9825</td>\n",
       "    </tr>\n",
       "    <tr>\n",
       "      <th>2</th>\n",
       "      <td>PAA</td>\n",
       "      <td>7.025</td>\n",
       "      <td>-4.600</td>\n",
       "      <td>0.9775</td>\n",
       "    </tr>\n",
       "    <tr>\n",
       "      <th>6</th>\n",
       "      <td>ADM</td>\n",
       "      <td>12.800</td>\n",
       "      <td>-10.600</td>\n",
       "      <td>0.9425</td>\n",
       "    </tr>\n",
       "    <tr>\n",
       "      <th>4</th>\n",
       "      <td>DM</td>\n",
       "      <td>10.950</td>\n",
       "      <td>-16.575</td>\n",
       "      <td>0.7725</td>\n",
       "    </tr>\n",
       "    <tr>\n",
       "      <th>5</th>\n",
       "      <td>CDM</td>\n",
       "      <td>4.675</td>\n",
       "      <td>-8.400</td>\n",
       "      <td>0.5450</td>\n",
       "    </tr>\n",
       "    <tr>\n",
       "      <th>1</th>\n",
       "      <td>DAA</td>\n",
       "      <td>5.075</td>\n",
       "      <td>-8.700</td>\n",
       "      <td>0.4675</td>\n",
       "    </tr>\n",
       "    <tr>\n",
       "      <th>0</th>\n",
       "      <td>VAA</td>\n",
       "      <td>3.600</td>\n",
       "      <td>-10.900</td>\n",
       "      <td>0.2925</td>\n",
       "    </tr>\n",
       "  </tbody>\n",
       "</table>\n",
       "</div>"
      ],
      "text/plain": [
       "    Port    CAGR     MDD  Sharpe\n",
       "11    AS   8.900  -4.875  1.1725\n",
       "9     CP  10.600  -7.975  1.1350\n",
       "3    LAA  10.650  -6.800  1.1325\n",
       "8   GTAA   9.075  -5.075  1.0900\n",
       "10    PP   7.475  -4.775  1.0550\n",
       "7    MDM  14.900 -16.575  0.9825\n",
       "2    PAA   7.025  -4.600  0.9775\n",
       "6    ADM  12.800 -10.600  0.9425\n",
       "4     DM  10.950 -16.575  0.7725\n",
       "5    CDM   4.675  -8.400  0.5450\n",
       "1    DAA   5.075  -8.700  0.4675\n",
       "0    VAA   3.600 -10.900  0.2925"
      ]
     },
     "execution_count": 15,
     "metadata": {},
     "output_type": "execute_result"
    }
   ],
   "source": [
    "final"
   ]
  }
 ],
 "metadata": {
  "kernelspec": {
   "display_name": "Python 3 (ipykernel)",
   "language": "python",
   "name": "python3"
  },
  "language_info": {
   "codemirror_mode": {
    "name": "ipython",
    "version": 3
   },
   "file_extension": ".py",
   "mimetype": "text/x-python",
   "name": "python",
   "nbconvert_exporter": "python",
   "pygments_lexer": "ipython3",
   "version": "3.9.7"
  }
 },
 "nbformat": 4,
 "nbformat_minor": 5
}
