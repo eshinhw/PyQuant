{
 "cells": [
  {
   "cell_type": "markdown",
   "metadata": {},
   "source": [
    "# Questrade Portfolio Manager"
   ]
  },
  {
   "cell_type": "code",
   "execution_count": 1,
   "metadata": {},
   "outputs": [],
   "source": [
    "import os\n",
    "import math\n",
    "import requests\n",
    "import numpy as np\n",
    "import pandas as pd\n",
    "import datetime as dt\n",
    "import src.credentials as cred\n",
    "import matplotlib.pyplot as plt\n",
    "from src.questrade import QuestradeBot"
   ]
  },
  {
   "cell_type": "markdown",
   "metadata": {},
   "source": [
    "## Personal Inputs and QuestradeBot Initialization"
   ]
  },
  {
   "cell_type": "code",
   "execution_count": 2,
   "metadata": {},
   "outputs": [],
   "source": [
    "qbot = QuestradeBot(cred.QUESTRADE_API_CODE)"
   ]
  },
  {
   "cell_type": "markdown",
   "metadata": {},
   "source": [
    "## Multiple Accounts Management"
   ]
  },
  {
   "cell_type": "code",
   "execution_count": 3,
   "metadata": {},
   "outputs": [],
   "source": [
    "acctNums = qbot.get_account_ids()"
   ]
  },
  {
   "cell_type": "code",
   "execution_count": 10,
   "metadata": {},
   "outputs": [],
   "source": [
    "acctData = {}\n",
    "for aNum in acctNums:\n",
    "    acctData[aNum] = {}\n",
    "    # balance\n",
    "    acctData[aNum]['bal'] = qbot.get_balance(aNum)\n",
    "    # portfolio holdings\n",
    "    portfolio_holdings = qbot.get_investment_summary(aNum)\n",
    "    acctData[aNum]['holdings'] = portfolio_holdings\n",
    "    # portfolio return\n",
    "    acctData[aNum]['return'] = (portfolio_holdings['Return (%)'].dot(portfolio_holdings['Portfolio (%)'])) / 100\n",
    "    # dividend income\n",
    "    acctData[aNum]['dividends'] = qbot.get_dividend_income(aNum)\n",
    "    # div.loc['Total'] = div.sum(numeric_only=True, axis=0)"
   ]
  },
  {
   "cell_type": "code",
   "execution_count": 11,
   "metadata": {},
   "outputs": [
    {
     "data": {
      "text/plain": [
       "{'51802566': {'bal':                   Cash  Market_Value  Total_Equity  Cash (%)  Investment (%)\n",
       "  Currency                                                                    \n",
       "  CAD       31785.336500          0.00  31785.336500    100.00            0.00\n",
       "  USD       12870.703943       9007.01  21877.713943     58.83           41.17,\n",
       "  'holdings':                                            Description Currency  Quantities  \\\n",
       "  MMM                                         3M COMPANY      USD           3   \n",
       "  O                                   REALTY INCOME CORP      USD          75   \n",
       "  JPM                               JPMORGAN CHASE & CO.      USD           6   \n",
       "  VTI  VANGUARD INDEX FUNDS VANGUARD TOTAL STOCK MARK...      USD           3   \n",
       "  QQQ                       INVESCO QQQ TRUST UNIT SER 1      USD           2   \n",
       "  TLT  ISHARES TRUST BARCLAYS 20+ TREAS BD FD TO 07/0...      USD           4   \n",
       "  IEF  ISHARES TRUST BARCLAYS 7-10 YEAR TREASURY BOND...      USD           5   \n",
       "  \n",
       "       Market Value  Return (%)  Portfolio (%)  \n",
       "  MMM        528.93      -10.45           5.87  \n",
       "  O         4942.50        7.68          54.87  \n",
       "  JPM       1002.90        8.92          11.13  \n",
       "  VTI        665.49       13.36           7.39  \n",
       "  QQQ        709.84       11.02           7.88  \n",
       "  TLT        577.32       -4.84           6.41  \n",
       "  IEF        575.90       -2.92           6.39  ,\n",
       "  'return': 5.9522450000000005,\n",
       "  'dividends':          Monthly_Dividend_Income\n",
       "  2018-04                     0.67\n",
       "  2018-05                     0.87\n",
       "  2018-06                     5.66\n",
       "  2018-07                     1.87\n",
       "  2018-08                     0.85\n",
       "  2018-09                     0.85\n",
       "  2018-10                     1.83\n",
       "  2018-11                     0.87\n",
       "  2018-12                     0.18\n",
       "  2019-01                     5.91\n",
       "  2019-02                     0.91\n",
       "  2019-03                     2.44\n",
       "  2019-04                     0.84\n",
       "  2019-05                     0.87\n",
       "  2019-06                     5.35\n",
       "  2019-07                     2.29\n",
       "  2019-08                     0.87\n",
       "  2019-09                     0.85\n",
       "  2019-10                     2.20\n",
       "  2019-11                     0.86\n",
       "  2019-12                     0.17\n",
       "  2020-01                     3.91\n",
       "  2020-02                     1.73\n",
       "  2020-03                     3.33\n",
       "  2020-04                     1.73\n",
       "  2020-05                     1.94\n",
       "  2020-06                     1.94\n",
       "  2020-07                     3.93\n",
       "  2020-08                     2.49\n",
       "  2020-09                     2.49\n",
       "  2020-10                     4.08\n",
       "  2020-11                     2.45\n",
       "  2020-12                     0.00\n",
       "  2021-01                     6.41\n",
       "  2021-02                     0.00\n",
       "  2021-03                     2.60\n",
       "  2021-04                    16.60\n",
       "  2021-05                    16.00\n",
       "  2021-06                    21.52\n",
       "  2021-07                    16.67\n",
       "  2021-08                    20.57\n",
       "  2021-09                    21.64\n",
       "  2021-10                     0.00},\n",
       " '52689970': {'bal':            Cash  Market_Value  Total_Equity  Cash (%)  Investment (%)\n",
       "  Currency                                                             \n",
       "  CAD           0             0             0       0.0             0.0\n",
       "  USD       10000             0         10000     100.0             0.0,\n",
       "  'holdings': Empty DataFrame\n",
       "  Columns: [Description, Currency, Quantities, Market Value, Return (%), Portfolio (%)]\n",
       "  Index: [],\n",
       "  'return': 0.0,\n",
       "  'dividends':          Monthly_Dividend_Income\n",
       "  2018-04                        0\n",
       "  2018-05                        0\n",
       "  2018-06                        0\n",
       "  2018-07                        0\n",
       "  2018-08                        0\n",
       "  2018-09                        0\n",
       "  2018-10                        0\n",
       "  2018-11                        0\n",
       "  2018-12                        0\n",
       "  2019-01                        0\n",
       "  2019-02                        0\n",
       "  2019-03                        0\n",
       "  2019-04                        0\n",
       "  2019-05                        0\n",
       "  2019-06                        0\n",
       "  2019-07                        0\n",
       "  2019-08                        0\n",
       "  2019-09                        0\n",
       "  2019-10                        0\n",
       "  2019-11                        0\n",
       "  2019-12                        0\n",
       "  2020-01                        0\n",
       "  2020-02                        0\n",
       "  2020-03                        0\n",
       "  2020-04                        0\n",
       "  2020-05                        0\n",
       "  2020-06                        0\n",
       "  2020-07                        0\n",
       "  2020-08                        0\n",
       "  2020-09                        0\n",
       "  2020-10                        0\n",
       "  2020-11                        0\n",
       "  2020-12                        0\n",
       "  2021-01                        0\n",
       "  2021-02                        0\n",
       "  2021-03                        0\n",
       "  2021-04                        0\n",
       "  2021-05                        0\n",
       "  2021-06                        0\n",
       "  2021-07                        0\n",
       "  2021-08                        0\n",
       "  2021-09                        0\n",
       "  2021-10                        0}}"
      ]
     },
     "execution_count": 11,
     "metadata": {},
     "output_type": "execute_result"
    }
   ],
   "source": [
    "acctData"
   ]
  },
  {
   "cell_type": "markdown",
   "metadata": {},
   "source": [
    "portfolio['Portfolio (%)'].plot(kind='pie',\n",
    "                             title='Portfolio Breakdown',\n",
    "                             figsize=(10, 10),\n",
    "                             legend=True)"
   ]
  },
  {
   "cell_type": "markdown",
   "metadata": {},
   "source": [
    "## Monthly Dividend Income"
   ]
  },
  {
   "cell_type": "code",
   "execution_count": 7,
   "metadata": {},
   "outputs": [
    {
     "ename": "TypeError",
     "evalue": "get_dividend_income() missing 1 required positional argument: 'acctNum'",
     "output_type": "error",
     "traceback": [
      "\u001b[1;31m---------------------------------------------------------------------------\u001b[0m",
      "\u001b[1;31mTypeError\u001b[0m                                 Traceback (most recent call last)",
      "\u001b[1;32m<ipython-input-7-7be1f9c303ca>\u001b[0m in \u001b[0;36m<module>\u001b[1;34m\u001b[0m\n\u001b[1;32m----> 1\u001b[1;33m \u001b[0mdiv\u001b[0m \u001b[1;33m=\u001b[0m \u001b[0mqbot\u001b[0m\u001b[1;33m.\u001b[0m\u001b[0mget_dividend_income\u001b[0m\u001b[1;33m(\u001b[0m\u001b[1;33m)\u001b[0m\u001b[1;33m\u001b[0m\u001b[1;33m\u001b[0m\u001b[0m\n\u001b[0m\u001b[0;32m      2\u001b[0m \u001b[0mdiv\u001b[0m\u001b[1;33m.\u001b[0m\u001b[0mloc\u001b[0m\u001b[1;33m[\u001b[0m\u001b[1;34m'Total'\u001b[0m\u001b[1;33m]\u001b[0m \u001b[1;33m=\u001b[0m \u001b[0mdiv\u001b[0m\u001b[1;33m.\u001b[0m\u001b[0msum\u001b[0m\u001b[1;33m(\u001b[0m\u001b[0mnumeric_only\u001b[0m\u001b[1;33m=\u001b[0m\u001b[1;32mTrue\u001b[0m\u001b[1;33m,\u001b[0m \u001b[0maxis\u001b[0m\u001b[1;33m=\u001b[0m\u001b[1;36m0\u001b[0m\u001b[1;33m)\u001b[0m\u001b[1;33m\u001b[0m\u001b[1;33m\u001b[0m\u001b[0m\n",
      "\u001b[1;31mTypeError\u001b[0m: get_dividend_income() missing 1 required positional argument: 'acctNum'"
     ]
    }
   ],
   "source": [
    "div = qbot.get_dividend_income()\n",
    "div.loc['Total'] = div.sum(numeric_only=True, axis=0)"
   ]
  },
  {
   "cell_type": "markdown",
   "metadata": {
    "scrolled": true
   },
   "source": [
    "div[:-1].plot(kind='bar',\n",
    "                    title='Monthly Dividend Payments',\n",
    "                    xlabel='Months',\n",
    "                    ylabel='Dividend ($)',\n",
    "                    figsize=(15, 10),\n",
    "                    legend=False,\n",
    "                    ylim=(0, 30))"
   ]
  },
  {
   "cell_type": "markdown",
   "metadata": {},
   "source": [
    "## Performance Against Benchmark"
   ]
  },
  {
   "cell_type": "code",
   "execution_count": null,
   "metadata": {},
   "outputs": [],
   "source": []
  }
 ],
 "metadata": {
  "kernelspec": {
   "display_name": "Python 3",
   "language": "python",
   "name": "python3"
  },
  "language_info": {
   "codemirror_mode": {
    "name": "ipython",
    "version": 3
   },
   "file_extension": ".py",
   "mimetype": "text/x-python",
   "name": "python",
   "nbconvert_exporter": "python",
   "pygments_lexer": "ipython3",
   "version": "3.8.10"
  },
  "toc": {
   "base_numbering": 1,
   "nav_menu": {},
   "number_sections": false,
   "sideBar": true,
   "skip_h1_title": true,
   "title_cell": "Table of Contents",
   "title_sidebar": "Contents",
   "toc_cell": false,
   "toc_position": {
    "height": "calc(100% - 180px)",
    "left": "10px",
    "top": "150px",
    "width": "384px"
   },
   "toc_section_display": true,
   "toc_window_display": true
  },
  "varInspector": {
   "cols": {
    "lenName": 16,
    "lenType": 16,
    "lenVar": 40
   },
   "kernels_config": {
    "python": {
     "delete_cmd_postfix": "",
     "delete_cmd_prefix": "del ",
     "library": "var_list.py",
     "varRefreshCmd": "print(var_dic_list())"
    },
    "r": {
     "delete_cmd_postfix": ") ",
     "delete_cmd_prefix": "rm(",
     "library": "var_list.r",
     "varRefreshCmd": "cat(var_dic_list()) "
    }
   },
   "types_to_exclude": [
    "module",
    "function",
    "builtin_function_or_method",
    "instance",
    "_Feature"
   ],
   "window_display": false
  }
 },
 "nbformat": 4,
 "nbformat_minor": 4
}
