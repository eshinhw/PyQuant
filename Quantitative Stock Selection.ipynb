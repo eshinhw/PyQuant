{
 "cells": [
  {
   "cell_type": "code",
   "execution_count": 1,
   "id": "12ab74b8",
   "metadata": {},
   "outputs": [],
   "source": [
    "import fmp\n",
    "import pandas as pd"
   ]
  },
  {
   "cell_type": "markdown",
   "id": "8bbd0c15",
   "metadata": {},
   "source": [
    "# Dow Jones: select stocks which have positive 1Y, 2Y and 3Y momentum"
   ]
  },
  {
   "cell_type": "code",
   "execution_count": 2,
   "id": "0de3acc7",
   "metadata": {},
   "outputs": [
    {
     "name": "stdout",
     "output_type": "stream",
     "text": [
      "CRM: 1/30\n",
      "WBA: 2/30\n",
      "V: 3/30\n",
      "NKE: 4/30\n",
      "UNH: 5/30\n",
      "TRV: 6/30\n",
      "VZ: 7/30\n",
      "INTC: 8/30\n",
      "WMT: 9/30\n",
      "JNJ: 10/30\n",
      "DIS: 11/30\n",
      "MCD: 12/30\n",
      "JPM: 13/30\n",
      "CAT: 14/30\n",
      "BA: 15/30\n",
      "AMGN: 16/30\n",
      "DOW: 17/30\n",
      "AAPL: 18/30\n",
      "GS: 19/30\n",
      "CSCO: 20/30\n",
      "MSFT: 21/30\n",
      "HD: 22/30\n",
      "PG: 23/30\n",
      "MRK: 24/30\n",
      "IBM: 25/30\n",
      "HON: 26/30\n",
      "KO: 27/30\n",
      "CVX: 28/30\n",
      "AXP: 29/30\n",
      "MMM: 30/30\n"
     ]
    },
    {
     "ename": "KeyError",
     "evalue": "'symbol'",
     "output_type": "error",
     "traceback": [
      "\u001b[1;31m---------------------------------------------------------------------------\u001b[0m",
      "\u001b[1;31mKeyError\u001b[0m                                  Traceback (most recent call last)",
      "\u001b[1;32m~\\anaconda3\\lib\\site-packages\\pandas\\core\\indexes\\base.py\u001b[0m in \u001b[0;36mget_loc\u001b[1;34m(self, key, method, tolerance)\u001b[0m\n\u001b[0;32m   3079\u001b[0m             \u001b[1;32mtry\u001b[0m\u001b[1;33m:\u001b[0m\u001b[1;33m\u001b[0m\u001b[1;33m\u001b[0m\u001b[0m\n\u001b[1;32m-> 3080\u001b[1;33m                 \u001b[1;32mreturn\u001b[0m \u001b[0mself\u001b[0m\u001b[1;33m.\u001b[0m\u001b[0m_engine\u001b[0m\u001b[1;33m.\u001b[0m\u001b[0mget_loc\u001b[0m\u001b[1;33m(\u001b[0m\u001b[0mcasted_key\u001b[0m\u001b[1;33m)\u001b[0m\u001b[1;33m\u001b[0m\u001b[1;33m\u001b[0m\u001b[0m\n\u001b[0m\u001b[0;32m   3081\u001b[0m             \u001b[1;32mexcept\u001b[0m \u001b[0mKeyError\u001b[0m \u001b[1;32mas\u001b[0m \u001b[0merr\u001b[0m\u001b[1;33m:\u001b[0m\u001b[1;33m\u001b[0m\u001b[1;33m\u001b[0m\u001b[0m\n",
      "\u001b[1;32mpandas\\_libs\\index.pyx\u001b[0m in \u001b[0;36mpandas._libs.index.IndexEngine.get_loc\u001b[1;34m()\u001b[0m\n",
      "\u001b[1;32mpandas\\_libs\\index.pyx\u001b[0m in \u001b[0;36mpandas._libs.index.IndexEngine.get_loc\u001b[1;34m()\u001b[0m\n",
      "\u001b[1;32mpandas\\_libs\\hashtable_class_helper.pxi\u001b[0m in \u001b[0;36mpandas._libs.hashtable.PyObjectHashTable.get_item\u001b[1;34m()\u001b[0m\n",
      "\u001b[1;32mpandas\\_libs\\hashtable_class_helper.pxi\u001b[0m in \u001b[0;36mpandas._libs.hashtable.PyObjectHashTable.get_item\u001b[1;34m()\u001b[0m\n",
      "\u001b[1;31mKeyError\u001b[0m: 'symbol'",
      "\nThe above exception was the direct cause of the following exception:\n",
      "\u001b[1;31mKeyError\u001b[0m                                  Traceback (most recent call last)",
      "\u001b[1;32m<ipython-input-2-3f360801a141>\u001b[0m in \u001b[0;36m<module>\u001b[1;34m\u001b[0m\n\u001b[0;32m     27\u001b[0m \u001b[0mm36_momentums\u001b[0m \u001b[1;33m=\u001b[0m \u001b[1;33m[\u001b[0m\u001b[1;33m]\u001b[0m\u001b[1;33m\u001b[0m\u001b[1;33m\u001b[0m\u001b[0m\n\u001b[0;32m     28\u001b[0m \u001b[0mcount\u001b[0m \u001b[1;33m=\u001b[0m \u001b[1;36m0\u001b[0m\u001b[1;33m\u001b[0m\u001b[1;33m\u001b[0m\u001b[0m\n\u001b[1;32m---> 29\u001b[1;33m \u001b[1;32mfor\u001b[0m \u001b[0msymbol\u001b[0m \u001b[1;32min\u001b[0m \u001b[0mdf\u001b[0m\u001b[1;33m[\u001b[0m\u001b[1;34m\"symbol\"\u001b[0m\u001b[1;33m]\u001b[0m\u001b[1;33m:\u001b[0m\u001b[1;33m\u001b[0m\u001b[1;33m\u001b[0m\u001b[0m\n\u001b[0m\u001b[0;32m     30\u001b[0m     \u001b[0mcount\u001b[0m \u001b[1;33m+=\u001b[0m \u001b[1;36m1\u001b[0m\u001b[1;33m\u001b[0m\u001b[1;33m\u001b[0m\u001b[0m\n\u001b[0;32m     31\u001b[0m     \u001b[0mm12_momentums\u001b[0m\u001b[1;33m.\u001b[0m\u001b[0mappend\u001b[0m\u001b[1;33m(\u001b[0m\u001b[0mfmp\u001b[0m\u001b[1;33m.\u001b[0m\u001b[0mcalculate_hist_momentum\u001b[0m\u001b[1;33m(\u001b[0m\u001b[0msymbol\u001b[0m\u001b[1;33m,\u001b[0m \u001b[1;36m252\u001b[0m\u001b[1;33m)\u001b[0m\u001b[1;33m)\u001b[0m\u001b[1;33m\u001b[0m\u001b[1;33m\u001b[0m\u001b[0m\n",
      "\u001b[1;32m~\\anaconda3\\lib\\site-packages\\pandas\\core\\frame.py\u001b[0m in \u001b[0;36m__getitem__\u001b[1;34m(self, key)\u001b[0m\n\u001b[0;32m   3022\u001b[0m             \u001b[1;32mif\u001b[0m \u001b[0mself\u001b[0m\u001b[1;33m.\u001b[0m\u001b[0mcolumns\u001b[0m\u001b[1;33m.\u001b[0m\u001b[0mnlevels\u001b[0m \u001b[1;33m>\u001b[0m \u001b[1;36m1\u001b[0m\u001b[1;33m:\u001b[0m\u001b[1;33m\u001b[0m\u001b[1;33m\u001b[0m\u001b[0m\n\u001b[0;32m   3023\u001b[0m                 \u001b[1;32mreturn\u001b[0m \u001b[0mself\u001b[0m\u001b[1;33m.\u001b[0m\u001b[0m_getitem_multilevel\u001b[0m\u001b[1;33m(\u001b[0m\u001b[0mkey\u001b[0m\u001b[1;33m)\u001b[0m\u001b[1;33m\u001b[0m\u001b[1;33m\u001b[0m\u001b[0m\n\u001b[1;32m-> 3024\u001b[1;33m             \u001b[0mindexer\u001b[0m \u001b[1;33m=\u001b[0m \u001b[0mself\u001b[0m\u001b[1;33m.\u001b[0m\u001b[0mcolumns\u001b[0m\u001b[1;33m.\u001b[0m\u001b[0mget_loc\u001b[0m\u001b[1;33m(\u001b[0m\u001b[0mkey\u001b[0m\u001b[1;33m)\u001b[0m\u001b[1;33m\u001b[0m\u001b[1;33m\u001b[0m\u001b[0m\n\u001b[0m\u001b[0;32m   3025\u001b[0m             \u001b[1;32mif\u001b[0m \u001b[0mis_integer\u001b[0m\u001b[1;33m(\u001b[0m\u001b[0mindexer\u001b[0m\u001b[1;33m)\u001b[0m\u001b[1;33m:\u001b[0m\u001b[1;33m\u001b[0m\u001b[1;33m\u001b[0m\u001b[0m\n\u001b[0;32m   3026\u001b[0m                 \u001b[0mindexer\u001b[0m \u001b[1;33m=\u001b[0m \u001b[1;33m[\u001b[0m\u001b[0mindexer\u001b[0m\u001b[1;33m]\u001b[0m\u001b[1;33m\u001b[0m\u001b[1;33m\u001b[0m\u001b[0m\n",
      "\u001b[1;32m~\\anaconda3\\lib\\site-packages\\pandas\\core\\indexes\\base.py\u001b[0m in \u001b[0;36mget_loc\u001b[1;34m(self, key, method, tolerance)\u001b[0m\n\u001b[0;32m   3080\u001b[0m                 \u001b[1;32mreturn\u001b[0m \u001b[0mself\u001b[0m\u001b[1;33m.\u001b[0m\u001b[0m_engine\u001b[0m\u001b[1;33m.\u001b[0m\u001b[0mget_loc\u001b[0m\u001b[1;33m(\u001b[0m\u001b[0mcasted_key\u001b[0m\u001b[1;33m)\u001b[0m\u001b[1;33m\u001b[0m\u001b[1;33m\u001b[0m\u001b[0m\n\u001b[0;32m   3081\u001b[0m             \u001b[1;32mexcept\u001b[0m \u001b[0mKeyError\u001b[0m \u001b[1;32mas\u001b[0m \u001b[0merr\u001b[0m\u001b[1;33m:\u001b[0m\u001b[1;33m\u001b[0m\u001b[1;33m\u001b[0m\u001b[0m\n\u001b[1;32m-> 3082\u001b[1;33m                 \u001b[1;32mraise\u001b[0m \u001b[0mKeyError\u001b[0m\u001b[1;33m(\u001b[0m\u001b[0mkey\u001b[0m\u001b[1;33m)\u001b[0m \u001b[1;32mfrom\u001b[0m \u001b[0merr\u001b[0m\u001b[1;33m\u001b[0m\u001b[1;33m\u001b[0m\u001b[0m\n\u001b[0m\u001b[0;32m   3083\u001b[0m \u001b[1;33m\u001b[0m\u001b[0m\n\u001b[0;32m   3084\u001b[0m         \u001b[1;32mif\u001b[0m \u001b[0mtolerance\u001b[0m \u001b[1;32mis\u001b[0m \u001b[1;32mnot\u001b[0m \u001b[1;32mNone\u001b[0m\u001b[1;33m:\u001b[0m\u001b[1;33m\u001b[0m\u001b[1;33m\u001b[0m\u001b[0m\n",
      "\u001b[1;31mKeyError\u001b[0m: 'symbol'"
     ]
    }
   ],
   "source": [
    "# Retrieve symbols and financials\n",
    "\n",
    "sp500_tickers = fmp.sp500_symbols()\n",
    "dow_tickers = fmp.dow_symbols()\n",
    "\n",
    "# sp500_financials = dataSrc.financials(sp500_tickers)\n",
    "\n",
    "df = fmp.extract_financials(dow_tickers)\n",
    "\n",
    "# df = pd.read_csv('./R/data/dow_financials.csv')\n",
    "# df = df.drop(['Unnamed: 0'], axis=1)\n",
    "# df = df.dropna()\n",
    "\n",
    "conditions = ((df[\"Revenue_Growth\"] > 0)\n",
    "              & (df[\"GPMargin\"] > 0)\n",
    "              & (df[\"EPS_Growth\"] > 0)\n",
    "              & (df[\"ROE\"] > 0)\n",
    "              & (df[\"DPS_Growth\"] > 0)\n",
    "              & (df[\"DivYield\"] > 0))\n",
    "\n",
    "df = df[conditions]\n",
    "\n",
    "# Compute historical momentum\n",
    "\n",
    "m12_momentums = []\n",
    "m24_momentums = []\n",
    "m36_momentums = []\n",
    "count = 0\n",
    "for symbol in df[\"symbol\"]:\n",
    "    count += 1\n",
    "    m12_momentums.append(fmp.calculate_hist_momentum(symbol, 252))\n",
    "    m24_momentums.append(fmp.calculate_hist_momentum(symbol, 504))\n",
    "    m36_momentums.append(fmp.calculate_hist_momentum(symbol, 756))\n",
    "\n",
    "df[\"m12_momentum\"] = m12_momentums\n",
    "df[\"m24_momentum\"] = m24_momentums\n",
    "df[\"m36_momentum\"] = m36_momentums\n",
    "\n",
    "positive_mom_stocks = df[(df['m12_momentum'] > 0) & (df['m24_momentum'] > 0)\n",
    "                         & (df['m36_momentum'] > 0)]\n",
    "positive_mom_stocks"
   ]
  },
  {
   "cell_type": "markdown",
   "id": "acc6b494",
   "metadata": {},
   "source": [
    "# Calculate stocks' discount rate from 52W high"
   ]
  },
  {
   "cell_type": "code",
   "execution_count": null,
   "id": "e213de47",
   "metadata": {},
   "outputs": [],
   "source": [
    "watchlist = positive_mom_stocks[[\"symbol\", \"name\"]].copy()\n",
    "\n",
    "# Update current prices, 52W High and Discount %\n",
    "\n",
    "currentPrices = []\n",
    "highs = []\n",
    "discounts = []\n",
    "count = 0\n",
    "\n",
    "for symbol in watchlist[\"symbol\"]:\n",
    "    count += 1\n",
    "    print(f\"{symbol}: {count}/{len(watchlist['symbol'])}\")\n",
    "    currentPrice = fmp.get_current_price(symbol)\n",
    "    high = fmp.calculate_prev_max_high(symbol, 252)\n",
    "    discount_pct = (currentPrice - high) / high * 100\n",
    "\n",
    "    currentPrices.append(currentPrice)\n",
    "    highs.append(high)\n",
    "    discounts.append(discount_pct)\n",
    "\n",
    "watchlist[\"Current Price\"] = currentPrices\n",
    "watchlist[\"52W_High\"] = highs\n",
    "watchlist[\"Discount (%)\"] = discounts\n",
    "\n",
    "watchlist = watchlist.sort_values(by=\"Discount (%)\")\n",
    "watchlist"
   ]
  },
  {
   "cell_type": "markdown",
   "id": "51e0ad7d",
   "metadata": {},
   "source": [
    "# Consider buying if discounted more than 15%"
   ]
  },
  {
   "cell_type": "code",
   "execution_count": null,
   "id": "80ae6bf4",
   "metadata": {},
   "outputs": [],
   "source": [
    "buylist = watchlist[watchlist['Discount (%)'] < -15]\n",
    "buylist"
   ]
  },
  {
   "cell_type": "markdown",
   "id": "5347ce1a",
   "metadata": {},
   "source": [
    "# S&P500"
   ]
  },
  {
   "cell_type": "code",
   "execution_count": null,
   "id": "08587055",
   "metadata": {},
   "outputs": [],
   "source": [
    "# Retrieve symbols and financials\n",
    "\n",
    "sp500_tickers = fmp.sp500_symbols()\n",
    "\n",
    "df = fmp.extract_financials(sp500_tickers)\n",
    "\n",
    "# df = pd.read_csv('./R/data/dow_financials.csv')\n",
    "# df = df.drop(['Unnamed: 0'], axis=1)\n",
    "# df = df.dropna()\n",
    "\n",
    "conditions = ((df[\"Revenue_Growth\"] > 0)\n",
    "              & (df[\"GPMargin\"] > 0)\n",
    "              & (df[\"EPS_Growth\"] > 0)\n",
    "              & (df[\"ROE\"] > 0)\n",
    "              & (df[\"DPS_Growth\"] > 0)\n",
    "              & (df[\"DivYield\"] > 0))\n",
    "\n",
    "df = df[conditions]\n",
    "\n",
    "# Compute historical momentum\n",
    "\n",
    "m12_momentums = []\n",
    "m24_momentums = []\n",
    "m36_momentums = []\n",
    "count = 0\n",
    "for symbol in df[\"symbol\"]:\n",
    "    count += 1\n",
    "    m12_momentums.append(fmp.calculate_hist_momentum(symbol, 252))\n",
    "    m24_momentums.append(fmp.calculate_hist_momentum(symbol, 504))\n",
    "    m36_momentums.append(fmp.calculate_hist_momentum(symbol, 756))\n",
    "\n",
    "df[\"m12_momentum\"] = m12_momentums\n",
    "df[\"m24_momentum\"] = m24_momentums\n",
    "df[\"m36_momentum\"] = m36_momentums\n",
    "\n",
    "positive_mom_stocks = df[(df['m12_momentum'] > 0) & (df['m24_momentum'] > 0)\n",
    "                         & (df['m36_momentum'] > 0)]\n",
    "positive_mom_stocks"
   ]
  },
  {
   "cell_type": "code",
   "execution_count": null,
   "id": "e5dc02a8",
   "metadata": {},
   "outputs": [],
   "source": [
    "watchlist = positive_mom_stocks[[\"symbol\", \"name\"]].copy()\n",
    "\n",
    "# Update current prices, 52W High and Discount %\n",
    "\n",
    "currentPrices = []\n",
    "highs = []\n",
    "discounts = []\n",
    "count = 0\n",
    "\n",
    "for symbol in watchlist[\"symbol\"]:\n",
    "    count += 1\n",
    "    print(f\"{symbol}: {count}/{len(watchlist['symbol'])}\")\n",
    "    currentPrice = fmp.get_current_price(symbol)\n",
    "    high = fmp.calculate_prev_max_high(symbol, 252)\n",
    "    discount_pct = (currentPrice - high) / high * 100\n",
    "\n",
    "    currentPrices.append(currentPrice)\n",
    "    highs.append(high)\n",
    "    discounts.append(discount_pct)\n",
    "\n",
    "watchlist[\"Current Price\"] = currentPrices\n",
    "watchlist[\"52W_High\"] = highs\n",
    "watchlist[\"Discount (%)\"] = discounts\n",
    "\n",
    "watchlist = watchlist.sort_values(by=\"Discount (%)\")\n",
    "watchlist"
   ]
  },
  {
   "cell_type": "code",
   "execution_count": null,
   "id": "dec2ab5b",
   "metadata": {},
   "outputs": [],
   "source": [
    "buylist = watchlist[watchlist['Discount (%)'] < -15]\n",
    "buylist"
   ]
  },
  {
   "cell_type": "code",
   "execution_count": null,
   "id": "366d9814",
   "metadata": {},
   "outputs": [],
   "source": []
  },
  {
   "cell_type": "code",
   "execution_count": null,
   "id": "c91759af",
   "metadata": {},
   "outputs": [],
   "source": []
  },
  {
   "cell_type": "code",
   "execution_count": null,
   "id": "c8eeacad",
   "metadata": {},
   "outputs": [],
   "source": []
  },
  {
   "cell_type": "code",
   "execution_count": null,
   "id": "cae507e8",
   "metadata": {},
   "outputs": [],
   "source": [
    "#!jupyter nbconvert --to script --no-prompt analysis.ipynb"
   ]
  }
 ],
 "metadata": {
  "jupytext": {
   "formats": "ipynb,auto:light"
  },
  "kernelspec": {
   "display_name": "Python 3",
   "language": "python",
   "name": "python3"
  },
  "language_info": {
   "codemirror_mode": {
    "name": "ipython",
    "version": 3
   },
   "file_extension": ".py",
   "mimetype": "text/x-python",
   "name": "python",
   "nbconvert_exporter": "python",
   "pygments_lexer": "ipython3",
   "version": "3.8.10"
  },
  "toc": {
   "base_numbering": 1,
   "nav_menu": {},
   "number_sections": false,
   "sideBar": true,
   "skip_h1_title": true,
   "title_cell": "Table of Contents",
   "title_sidebar": "Contents",
   "toc_cell": false,
   "toc_position": {},
   "toc_section_display": true,
   "toc_window_display": false
  },
  "varInspector": {
   "cols": {
    "lenName": 16,
    "lenType": 16,
    "lenVar": 40
   },
   "kernels_config": {
    "python": {
     "delete_cmd_postfix": "",
     "delete_cmd_prefix": "del ",
     "library": "var_list.py",
     "varRefreshCmd": "print(var_dic_list())"
    },
    "r": {
     "delete_cmd_postfix": ") ",
     "delete_cmd_prefix": "rm(",
     "library": "var_list.r",
     "varRefreshCmd": "cat(var_dic_list()) "
    }
   },
   "types_to_exclude": [
    "module",
    "function",
    "builtin_function_or_method",
    "instance",
    "_Feature"
   ],
   "window_display": false
  }
 },
 "nbformat": 4,
 "nbformat_minor": 5
}
