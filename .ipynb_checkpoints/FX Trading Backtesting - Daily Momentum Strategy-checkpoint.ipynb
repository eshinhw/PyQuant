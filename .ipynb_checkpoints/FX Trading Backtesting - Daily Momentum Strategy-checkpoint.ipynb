{
 "cells": [
  {
   "cell_type": "markdown",
   "id": "a75d2758",
   "metadata": {},
   "source": [
    "# FX Trading Backtesting - Daily Momentum Strategy"
   ]
  },
  {
   "cell_type": "code",
   "execution_count": 1,
   "id": "3c3851ba",
   "metadata": {},
   "outputs": [],
   "source": [
    "import oanda\n",
    "import numpy as np\n",
    "import pandas as pd\n",
    "import datetime as dt"
   ]
  },
  {
   "cell_type": "code",
   "execution_count": 2,
   "id": "a8fd439b",
   "metadata": {},
   "outputs": [
    {
     "data": {
      "text/html": [
       "<div>\n",
       "<style scoped>\n",
       "    .dataframe tbody tr th:only-of-type {\n",
       "        vertical-align: middle;\n",
       "    }\n",
       "\n",
       "    .dataframe tbody tr th {\n",
       "        vertical-align: top;\n",
       "    }\n",
       "\n",
       "    .dataframe thead th {\n",
       "        text-align: right;\n",
       "    }\n",
       "</style>\n",
       "<table border=\"1\" class=\"dataframe\">\n",
       "  <thead>\n",
       "    <tr style=\"text-align: right;\">\n",
       "      <th></th>\n",
       "      <th>Open</th>\n",
       "      <th>High</th>\n",
       "      <th>Low</th>\n",
       "      <th>Close</th>\n",
       "      <th>Volume</th>\n",
       "    </tr>\n",
       "    <tr>\n",
       "      <th>Date</th>\n",
       "      <th></th>\n",
       "      <th></th>\n",
       "      <th></th>\n",
       "      <th></th>\n",
       "      <th></th>\n",
       "    </tr>\n",
       "  </thead>\n",
       "  <tbody>\n",
       "    <tr>\n",
       "      <th>2020-12-03</th>\n",
       "      <td>1.34862</td>\n",
       "      <td>1.35396</td>\n",
       "      <td>1.34106</td>\n",
       "      <td>1.34732</td>\n",
       "      <td>60578</td>\n",
       "    </tr>\n",
       "    <tr>\n",
       "      <th>2020-12-04</th>\n",
       "      <td>1.34734</td>\n",
       "      <td>1.34942</td>\n",
       "      <td>1.34201</td>\n",
       "      <td>1.34399</td>\n",
       "      <td>8320</td>\n",
       "    </tr>\n",
       "    <tr>\n",
       "      <th>2020-12-06</th>\n",
       "      <td>1.34102</td>\n",
       "      <td>1.34380</td>\n",
       "      <td>1.32242</td>\n",
       "      <td>1.33638</td>\n",
       "      <td>53584</td>\n",
       "    </tr>\n",
       "    <tr>\n",
       "      <th>2020-12-07</th>\n",
       "      <td>1.33640</td>\n",
       "      <td>1.34062</td>\n",
       "      <td>1.32896</td>\n",
       "      <td>1.33614</td>\n",
       "      <td>73088</td>\n",
       "    </tr>\n",
       "    <tr>\n",
       "      <th>2020-12-08</th>\n",
       "      <td>1.33616</td>\n",
       "      <td>1.34783</td>\n",
       "      <td>1.33399</td>\n",
       "      <td>1.33713</td>\n",
       "      <td>46886</td>\n",
       "    </tr>\n",
       "    <tr>\n",
       "      <th>...</th>\n",
       "      <td>...</td>\n",
       "      <td>...</td>\n",
       "      <td>...</td>\n",
       "      <td>...</td>\n",
       "      <td>...</td>\n",
       "    </tr>\n",
       "    <tr>\n",
       "      <th>2021-09-20</th>\n",
       "      <td>1.36434</td>\n",
       "      <td>1.36929</td>\n",
       "      <td>1.36406</td>\n",
       "      <td>1.36617</td>\n",
       "      <td>33209</td>\n",
       "    </tr>\n",
       "    <tr>\n",
       "      <th>2021-09-21</th>\n",
       "      <td>1.36614</td>\n",
       "      <td>1.36781</td>\n",
       "      <td>1.36162</td>\n",
       "      <td>1.36533</td>\n",
       "      <td>27604</td>\n",
       "    </tr>\n",
       "    <tr>\n",
       "      <th>2021-09-22</th>\n",
       "      <td>1.36530</td>\n",
       "      <td>1.37508</td>\n",
       "      <td>1.36096</td>\n",
       "      <td>1.37450</td>\n",
       "      <td>58348</td>\n",
       "    </tr>\n",
       "    <tr>\n",
       "      <th>2021-09-23</th>\n",
       "      <td>1.37452</td>\n",
       "      <td>1.37466</td>\n",
       "      <td>1.36576</td>\n",
       "      <td>1.36796</td>\n",
       "      <td>25387</td>\n",
       "    </tr>\n",
       "    <tr>\n",
       "      <th>2021-09-24</th>\n",
       "      <td>1.36794</td>\n",
       "      <td>1.36794</td>\n",
       "      <td>1.36594</td>\n",
       "      <td>1.36745</td>\n",
       "      <td>2148</td>\n",
       "    </tr>\n",
       "  </tbody>\n",
       "</table>\n",
       "<p>252 rows × 5 columns</p>\n",
       "</div>"
      ],
      "text/plain": [
       "               Open     High      Low    Close  Volume\n",
       "Date                                                  \n",
       "2020-12-03  1.34862  1.35396  1.34106  1.34732   60578\n",
       "2020-12-04  1.34734  1.34942  1.34201  1.34399    8320\n",
       "2020-12-06  1.34102  1.34380  1.32242  1.33638   53584\n",
       "2020-12-07  1.33640  1.34062  1.32896  1.33614   73088\n",
       "2020-12-08  1.33616  1.34783  1.33399  1.33713   46886\n",
       "...             ...      ...      ...      ...     ...\n",
       "2021-09-20  1.36434  1.36929  1.36406  1.36617   33209\n",
       "2021-09-21  1.36614  1.36781  1.36162  1.36533   27604\n",
       "2021-09-22  1.36530  1.37508  1.36096  1.37450   58348\n",
       "2021-09-23  1.37452  1.37466  1.36576  1.36796   25387\n",
       "2021-09-24  1.36794  1.36794  1.36594  1.36745    2148\n",
       "\n",
       "[252 rows x 5 columns]"
      ]
     },
     "execution_count": 2,
     "metadata": {},
     "output_type": "execute_result"
    }
   ],
   "source": [
    "data = oanda.get_candle_data('GBP_USD', 252, 'D')\n",
    "\n",
    "df_data = {'Date': [], 'Open': [], 'High': [], 'Low': [], 'Close': [], 'Volume': []}\n",
    "\n",
    "for p in data['candles']:\n",
    "    if p['complete'] == True:\n",
    "        date = dt.datetime.strptime(p['time'][:10], \"%Y-%m-%d\")\n",
    "        open_price = float(p['mid']['o'])\n",
    "        high_price = float(p['mid']['h'])\n",
    "        low_price = float(p['mid']['l'])\n",
    "        close_price = float(p['mid']['c'])\n",
    "        volume = int(p['volume'])\n",
    "        \n",
    "        df_data['Date'].append(date)\n",
    "        df_data['Open'].append(open_price)\n",
    "        df_data['High'].append(high_price)\n",
    "        df_data['Low'].append(low_price)\n",
    "        df_data['Close'].append(close_price)\n",
    "        df_data['Volume'].append(volume)\n",
    "\n",
    "df = pd.DataFrame(df_data)\n",
    "df.set_index('Date', inplace=True)\n",
    "df"
   ]
  },
  {
   "cell_type": "markdown",
   "id": "e1045cfa",
   "metadata": {},
   "source": [
    "## 1 Day Momentum"
   ]
  },
  {
   "cell_type": "code",
   "execution_count": 8,
   "id": "e119fb89",
   "metadata": {},
   "outputs": [
    {
     "name": "stdout",
     "output_type": "stream",
     "text": [
      "249\n"
     ]
    },
    {
     "data": {
      "text/plain": [
       "2.767099404033022e+62"
      ]
     },
     "execution_count": 8,
     "metadata": {},
     "output_type": "execute_result"
    }
   ],
   "source": [
    "mom_period = 1\n",
    "\n",
    "balance = 1\n",
    "count = 0\n",
    "\n",
    "for i in range(mom_period, len(df.index)-1):\n",
    "    prev_date = df.index[i-mom_period]\n",
    "    curr_date = df.index[i]\n",
    "    next_date = df.index[i+1]\n",
    "    \n",
    "    prev_high = df.loc[prev_date,'High']\n",
    "    curr_high = df.loc[curr_date, 'High']\n",
    "    prev_low = df.loc[prev_date, 'Low']\n",
    "    curr_low = df.loc[curr_date, 'Low']\n",
    "    curr_close = df.loc[curr_date, 'Close']\n",
    "    \n",
    "    # trading condition\n",
    "    \n",
    "    # if current high is previous high, long \n",
    "    if curr_high > prev_high:\n",
    "        #print(curr_date, \"long\")\n",
    "        next_close = df.loc[next_date,'Close']\n",
    "        ret = (abs(next_close - curr_close) / curr_close) * 1000\n",
    "        if ret != 0:\n",
    "            count += 1\n",
    "            balance = balance * ret\n",
    "\n",
    "    # if current low is previous low, short\n",
    "    if curr_low < prev_low:\n",
    "        #print(curr_date, \"short\")\n",
    "        next_close = df.loc[next_date, 'Close']\n",
    "        ret = (abs(next_close - curr_close) / curr_close) * 1000\n",
    "        if ret != 0:\n",
    "            count += 1\n",
    "            balance = balance * ret       \n",
    "\n",
    "#print(rets)\n",
    "print(count)\n",
    "balance"
   ]
  },
  {
   "cell_type": "markdown",
   "id": "2ca5a66d",
   "metadata": {},
   "source": [
    "## 2 Days Momentum"
   ]
  },
  {
   "cell_type": "code",
   "execution_count": 10,
   "id": "fa190587",
   "metadata": {},
   "outputs": [
    {
     "name": "stdout",
     "output_type": "stream",
     "text": [
      "253\n"
     ]
    },
    {
     "data": {
      "text/plain": [
       "2.096603427970467e+56"
      ]
     },
     "execution_count": 10,
     "metadata": {},
     "output_type": "execute_result"
    }
   ],
   "source": [
    "mom_period = 2\n",
    "\n",
    "balance = 1\n",
    "count = 0\n",
    "\n",
    "for i in range(mom_period, len(df.index)-1):\n",
    "    prev_date = df.index[i-mom_period]\n",
    "    curr_date = df.index[i]\n",
    "    next_date = df.index[i+1]\n",
    "    \n",
    "    prev_high = df.loc[prev_date,'High']\n",
    "    curr_high = df.loc[curr_date, 'High']\n",
    "    prev_low = df.loc[prev_date, 'Low']\n",
    "    curr_low = df.loc[curr_date, 'Low']\n",
    "    curr_close = df.loc[curr_date, 'Close']\n",
    "    \n",
    "    # trading condition\n",
    "    \n",
    "    # if current high is previous high, long \n",
    "    if curr_high > prev_high:\n",
    "        #print(curr_date, \"long\")\n",
    "        next_close = df.loc[next_date,'Close']\n",
    "        ret = (abs(next_close - curr_close) / curr_close) * 1000\n",
    "        if ret != 0:\n",
    "            count += 1\n",
    "            balance = balance * ret\n",
    "\n",
    "    # if current low is previous low, short\n",
    "    if curr_low < prev_low:\n",
    "        #print(curr_date, \"short\")\n",
    "        next_close = df.loc[next_date, 'Close']\n",
    "        ret = (abs(next_close - curr_close) / curr_close) * 1000\n",
    "        if ret != 0:\n",
    "            count += 1\n",
    "            balance = balance * ret       \n",
    "\n",
    "#print(rets)\n",
    "print(count)\n",
    "balance"
   ]
  },
  {
   "cell_type": "code",
   "execution_count": 9,
   "id": "6abe6f77",
   "metadata": {},
   "outputs": [
    {
     "name": "stdout",
     "output_type": "stream",
     "text": [
      "242\n"
     ]
    },
    {
     "data": {
      "text/plain": [
       "1.2938358606920118e+58"
      ]
     },
     "execution_count": 9,
     "metadata": {},
     "output_type": "execute_result"
    }
   ],
   "source": [
    "mom_period = 3\n",
    "\n",
    "balance = 1\n",
    "count = 0\n",
    "\n",
    "for i in range(mom_period, len(df.index)-1):\n",
    "    prev_date = df.index[i-mom_period]\n",
    "    curr_date = df.index[i]\n",
    "    next_date = df.index[i+1]\n",
    "    \n",
    "    prev_high = df.loc[prev_date,'High']\n",
    "    curr_high = df.loc[curr_date, 'High']\n",
    "    prev_low = df.loc[prev_date, 'Low']\n",
    "    curr_low = df.loc[curr_date, 'Low']\n",
    "    curr_close = df.loc[curr_date, 'Close']\n",
    "    \n",
    "    # trading condition\n",
    "    \n",
    "    # if current high is previous high, long \n",
    "    if curr_high > prev_high:\n",
    "        #print(curr_date, \"long\")\n",
    "        next_close = df.loc[next_date,'Close']\n",
    "        ret = (abs(next_close - curr_close) / curr_close) * 1000\n",
    "        if ret != 0:\n",
    "            count += 1\n",
    "            balance = balance * ret\n",
    "\n",
    "    # if current low is previous low, short\n",
    "    if curr_low < prev_low:\n",
    "        #print(curr_date, \"short\")\n",
    "        next_close = df.loc[next_date, 'Close']\n",
    "        ret = (abs(next_close - curr_close) / curr_close) * 1000\n",
    "        if ret != 0:\n",
    "            count += 1\n",
    "            balance = balance * ret       \n",
    "\n",
    "#print(rets)\n",
    "print(count)\n",
    "balance"
   ]
  },
  {
   "cell_type": "code",
   "execution_count": null,
   "id": "5513f63a",
   "metadata": {},
   "outputs": [],
   "source": []
  }
 ],
 "metadata": {
  "kernelspec": {
   "display_name": "Python 3",
   "language": "python",
   "name": "python3"
  },
  "language_info": {
   "codemirror_mode": {
    "name": "ipython",
    "version": 3
   },
   "file_extension": ".py",
   "mimetype": "text/x-python",
   "name": "python",
   "nbconvert_exporter": "python",
   "pygments_lexer": "ipython3",
   "version": "3.8.10"
  },
  "toc": {
   "base_numbering": 1,
   "nav_menu": {},
   "number_sections": false,
   "sideBar": true,
   "skip_h1_title": true,
   "title_cell": "Table of Contents",
   "title_sidebar": "Contents",
   "toc_cell": false,
   "toc_position": {},
   "toc_section_display": true,
   "toc_window_display": false
  },
  "varInspector": {
   "cols": {
    "lenName": 16,
    "lenType": 16,
    "lenVar": 40
   },
   "kernels_config": {
    "python": {
     "delete_cmd_postfix": "",
     "delete_cmd_prefix": "del ",
     "library": "var_list.py",
     "varRefreshCmd": "print(var_dic_list())"
    },
    "r": {
     "delete_cmd_postfix": ") ",
     "delete_cmd_prefix": "rm(",
     "library": "var_list.r",
     "varRefreshCmd": "cat(var_dic_list()) "
    }
   },
   "types_to_exclude": [
    "module",
    "function",
    "builtin_function_or_method",
    "instance",
    "_Feature"
   ],
   "window_display": false
  }
 },
 "nbformat": 4,
 "nbformat_minor": 5
}
