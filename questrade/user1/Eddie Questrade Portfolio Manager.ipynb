{
 "cells": [
  {
   "cell_type": "markdown",
   "metadata": {},
   "source": [
    "# Questrade Portfolio Manager"
   ]
  },
  {
   "cell_type": "code",
   "execution_count": 1,
   "metadata": {},
   "outputs": [],
   "source": [
    "import os\n",
    "import sys\n",
    "\n",
    "currDir = os.getcwd()\n",
    "parentDir = os.path.abspath(os.path.join(currDir, os.pardir))\n",
    "grandParentDir = os.path.abspath(os.path.join(parentDir, os.pardir))\n",
    "\n",
    "# print(currDir)\n",
    "# print(parentDir)\n",
    "# print(grandParentDir)\n",
    "\n",
    "sys.path.append(parentDir) # append parent path\n",
    "sys.path.append(grandParentDir) # append home repo dir"
   ]
  },
  {
   "cell_type": "code",
   "execution_count": 2,
   "metadata": {},
   "outputs": [],
   "source": [
    "import math\n",
    "import requests\n",
    "import numpy as np\n",
    "import pandas as pd\n",
    "import datetime as dt\n",
    "from credentials import EDDIE_QUESTRADE_API_CODE, EDDIE_ACCOUNT_TYPE\n",
    "import matplotlib.pyplot as plt\n",
    "from questrade import QuestradeBot"
   ]
  },
  {
   "cell_type": "markdown",
   "metadata": {},
   "source": [
    "## Personal Inputs and QuestradeBot Initialization"
   ]
  },
  {
   "cell_type": "code",
   "execution_count": 3,
   "metadata": {
    "scrolled": true
   },
   "outputs": [],
   "source": [
    "qbot = QuestradeBot(EDDIE_QUESTRADE_API_CODE)"
   ]
  },
  {
   "cell_type": "markdown",
   "metadata": {},
   "source": [
    "## Multiple Accounts Management"
   ]
  },
  {
   "cell_type": "code",
   "execution_count": 4,
   "metadata": {},
   "outputs": [],
   "source": [
    "acctNums = qbot.get_account_ids()"
   ]
  },
  {
   "cell_type": "code",
   "execution_count": 5,
   "metadata": {},
   "outputs": [],
   "source": [
    "acctData = {}\n",
    "ACCOUNT_TYPE = EDDIE_ACCOUNT_TYPE\n",
    "for aNum in acctNums:\n",
    "    if aNum in ACCOUNT_TYPE:\n",
    "        aName = ACCOUNT_TYPE[aNum]\n",
    "        \n",
    "        if aName == 'Stock Portfolio':\n",
    "            stock_bal = qbot.get_balance(aNum)\n",
    "            stock_portfolio = qbot.get_investment_summary(aNum)\n",
    "            stock_return = (stock_portfolio['Return (%)'].dot(stock_portfolio['Portfolio (%)'])) / 100\n",
    "            stock_dividends = qbot.get_dividend_income(aNum)\n",
    "        if aName == 'Quant Portfolio':\n",
    "            quant_bal = qbot.get_balance(aNum)\n",
    "            quant_portfolio = qbot.get_investment_summary(aNum)\n",
    "            quant_return = (quant_portfolio['Return (%)'].dot(quant_portfolio['Portfolio (%)'])) / 100\n",
    "            quant_dividends = qbot.get_dividend_income(aNum) \n",
    "    else:\n",
    "        print(\"Please define portfolio first in credentials.py\")"
   ]
  },
  {
   "cell_type": "markdown",
   "metadata": {},
   "source": [
    "## US Stock Investing"
   ]
  },
  {
   "cell_type": "markdown",
   "metadata": {},
   "source": [
    "### Stock Portfolio Balance"
   ]
  },
  {
   "cell_type": "code",
   "execution_count": 6,
   "metadata": {},
   "outputs": [
    {
     "data": {
      "text/html": [
       "<div>\n",
       "<style scoped>\n",
       "    .dataframe tbody tr th:only-of-type {\n",
       "        vertical-align: middle;\n",
       "    }\n",
       "\n",
       "    .dataframe tbody tr th {\n",
       "        vertical-align: top;\n",
       "    }\n",
       "\n",
       "    .dataframe thead th {\n",
       "        text-align: right;\n",
       "    }\n",
       "</style>\n",
       "<table border=\"1\" class=\"dataframe\">\n",
       "  <thead>\n",
       "    <tr style=\"text-align: right;\">\n",
       "      <th></th>\n",
       "      <th>Cash</th>\n",
       "      <th>Market_Value</th>\n",
       "      <th>Total_Equity</th>\n",
       "      <th>Cash (%)</th>\n",
       "      <th>Investment (%)</th>\n",
       "    </tr>\n",
       "    <tr>\n",
       "      <th>Currency</th>\n",
       "      <th></th>\n",
       "      <th></th>\n",
       "      <th></th>\n",
       "      <th></th>\n",
       "      <th></th>\n",
       "    </tr>\n",
       "  </thead>\n",
       "  <tbody>\n",
       "    <tr>\n",
       "      <th>CAD</th>\n",
       "      <td>31785.336500</td>\n",
       "      <td>0.00</td>\n",
       "      <td>31785.336500</td>\n",
       "      <td>100.00</td>\n",
       "      <td>0.00</td>\n",
       "    </tr>\n",
       "    <tr>\n",
       "      <th>USD</th>\n",
       "      <td>12886.723943</td>\n",
       "      <td>9528.07</td>\n",
       "      <td>22414.793943</td>\n",
       "      <td>57.49</td>\n",
       "      <td>42.51</td>\n",
       "    </tr>\n",
       "  </tbody>\n",
       "</table>\n",
       "</div>"
      ],
      "text/plain": [
       "                  Cash  Market_Value  Total_Equity  Cash (%)  Investment (%)\n",
       "Currency                                                                    \n",
       "CAD       31785.336500          0.00  31785.336500    100.00            0.00\n",
       "USD       12886.723943       9528.07  22414.793943     57.49           42.51"
      ]
     },
     "execution_count": 6,
     "metadata": {},
     "output_type": "execute_result"
    }
   ],
   "source": [
    "stock_bal"
   ]
  },
  {
   "cell_type": "markdown",
   "metadata": {},
   "source": [
    "### Stock Portfolio"
   ]
  },
  {
   "cell_type": "code",
   "execution_count": 7,
   "metadata": {},
   "outputs": [
    {
     "data": {
      "text/html": [
       "<div>\n",
       "<style scoped>\n",
       "    .dataframe tbody tr th:only-of-type {\n",
       "        vertical-align: middle;\n",
       "    }\n",
       "\n",
       "    .dataframe tbody tr th {\n",
       "        vertical-align: top;\n",
       "    }\n",
       "\n",
       "    .dataframe thead th {\n",
       "        text-align: right;\n",
       "    }\n",
       "</style>\n",
       "<table border=\"1\" class=\"dataframe\">\n",
       "  <thead>\n",
       "    <tr style=\"text-align: right;\">\n",
       "      <th></th>\n",
       "      <th>Description</th>\n",
       "      <th>Currency</th>\n",
       "      <th>Quantities</th>\n",
       "      <th>Market Value</th>\n",
       "      <th>Return (%)</th>\n",
       "      <th>Portfolio (%)</th>\n",
       "    </tr>\n",
       "  </thead>\n",
       "  <tbody>\n",
       "    <tr>\n",
       "      <th>MMM</th>\n",
       "      <td>3M COMPANY</td>\n",
       "      <td>USD</td>\n",
       "      <td>3</td>\n",
       "      <td>544.68</td>\n",
       "      <td>-7.78</td>\n",
       "      <td>5.72</td>\n",
       "    </tr>\n",
       "    <tr>\n",
       "      <th>O</th>\n",
       "      <td>REALTY INCOME CORP</td>\n",
       "      <td>USD</td>\n",
       "      <td>75</td>\n",
       "      <td>5358.75</td>\n",
       "      <td>16.75</td>\n",
       "      <td>56.24</td>\n",
       "    </tr>\n",
       "    <tr>\n",
       "      <th>JPM</th>\n",
       "      <td>JPMORGAN CHASE &amp; CO.</td>\n",
       "      <td>USD</td>\n",
       "      <td>6</td>\n",
       "      <td>1021.14</td>\n",
       "      <td>10.90</td>\n",
       "      <td>10.72</td>\n",
       "    </tr>\n",
       "    <tr>\n",
       "      <th>VTI</th>\n",
       "      <td>VANGUARD INDEX FUNDS VANGUARD TOTAL STOCK MARK...</td>\n",
       "      <td>USD</td>\n",
       "      <td>3</td>\n",
       "      <td>700.20</td>\n",
       "      <td>19.28</td>\n",
       "      <td>7.35</td>\n",
       "    </tr>\n",
       "    <tr>\n",
       "      <th>QQQ</th>\n",
       "      <td>INVESCO QQQ TRUST UNIT SER 1</td>\n",
       "      <td>USD</td>\n",
       "      <td>2</td>\n",
       "      <td>745.48</td>\n",
       "      <td>16.60</td>\n",
       "      <td>7.82</td>\n",
       "    </tr>\n",
       "    <tr>\n",
       "      <th>TLT</th>\n",
       "      <td>ISHARES TRUST BARCLAYS 20+ TREAS BD FD TO 07/0...</td>\n",
       "      <td>USD</td>\n",
       "      <td>4</td>\n",
       "      <td>576.84</td>\n",
       "      <td>-4.92</td>\n",
       "      <td>6.05</td>\n",
       "    </tr>\n",
       "    <tr>\n",
       "      <th>IEF</th>\n",
       "      <td>ISHARES TRUST BARCLAYS 7-10 YEAR TREASURY BOND...</td>\n",
       "      <td>USD</td>\n",
       "      <td>5</td>\n",
       "      <td>569.80</td>\n",
       "      <td>-3.94</td>\n",
       "      <td>5.98</td>\n",
       "    </tr>\n",
       "  </tbody>\n",
       "</table>\n",
       "</div>"
      ],
      "text/plain": [
       "                                           Description Currency  Quantities  \\\n",
       "MMM                                         3M COMPANY      USD           3   \n",
       "O                                   REALTY INCOME CORP      USD          75   \n",
       "JPM                               JPMORGAN CHASE & CO.      USD           6   \n",
       "VTI  VANGUARD INDEX FUNDS VANGUARD TOTAL STOCK MARK...      USD           3   \n",
       "QQQ                       INVESCO QQQ TRUST UNIT SER 1      USD           2   \n",
       "TLT  ISHARES TRUST BARCLAYS 20+ TREAS BD FD TO 07/0...      USD           4   \n",
       "IEF  ISHARES TRUST BARCLAYS 7-10 YEAR TREASURY BOND...      USD           5   \n",
       "\n",
       "     Market Value  Return (%)  Portfolio (%)  \n",
       "MMM        544.68       -7.78           5.72  \n",
       "O         5358.75       16.75          56.24  \n",
       "JPM       1021.14       10.90          10.72  \n",
       "VTI        700.20       19.28           7.35  \n",
       "QQQ        745.48       16.60           7.82  \n",
       "TLT        576.84       -4.92           6.05  \n",
       "IEF        569.80       -3.94           5.98  "
      ]
     },
     "execution_count": 7,
     "metadata": {},
     "output_type": "execute_result"
    }
   ],
   "source": [
    "stock_portfolio"
   ]
  },
  {
   "cell_type": "code",
   "execution_count": 8,
   "metadata": {},
   "outputs": [
    {
     "data": {
      "text/plain": [
       "<AxesSubplot:title={'center':'Portfolio Breakdown'}, ylabel='Portfolio (%)'>"
      ]
     },
     "execution_count": 8,
     "metadata": {},
     "output_type": "execute_result"
    },
    {
     "data": {
      "image/png": "[encoded data removed]",
      "text/plain": [
       "<Figure size 720x720 with 1 Axes>"
      ]
     },
     "metadata": {},
     "output_type": "display_data"
    }
   ],
   "source": [
    "stock_portfolio['Portfolio (%)'].plot(kind='pie',\n",
    "                             title='Portfolio Breakdown',\n",
    "                             figsize=(10, 10),\n",
    "                             legend=True)"
   ]
  },
  {
   "cell_type": "markdown",
   "metadata": {},
   "source": [
    "### Stock Portfolio Return"
   ]
  },
  {
   "cell_type": "code",
   "execution_count": 9,
   "metadata": {},
   "outputs": [
    {
     "data": {
      "text/plain": [
       "12.325591999999999"
      ]
     },
     "execution_count": 9,
     "metadata": {},
     "output_type": "execute_result"
    }
   ],
   "source": [
    "stock_return"
   ]
  },
  {
   "cell_type": "markdown",
   "metadata": {},
   "source": [
    "### Stock Dividends"
   ]
  },
  {
   "cell_type": "code",
   "execution_count": 10,
   "metadata": {},
   "outputs": [
    {
     "data": {
      "text/html": [
       "<div>\n",
       "<style scoped>\n",
       "    .dataframe tbody tr th:only-of-type {\n",
       "        vertical-align: middle;\n",
       "    }\n",
       "\n",
       "    .dataframe tbody tr th {\n",
       "        vertical-align: top;\n",
       "    }\n",
       "\n",
       "    .dataframe thead th {\n",
       "        text-align: right;\n",
       "    }\n",
       "</style>\n",
       "<table border=\"1\" class=\"dataframe\">\n",
       "  <thead>\n",
       "    <tr style=\"text-align: right;\">\n",
       "      <th></th>\n",
       "      <th>Monthly_Dividend_Income</th>\n",
       "    </tr>\n",
       "  </thead>\n",
       "  <tbody>\n",
       "    <tr>\n",
       "      <th>2021-07</th>\n",
       "      <td>16.67</td>\n",
       "    </tr>\n",
       "    <tr>\n",
       "      <th>2021-08</th>\n",
       "      <td>20.57</td>\n",
       "    </tr>\n",
       "    <tr>\n",
       "      <th>2021-09</th>\n",
       "      <td>21.64</td>\n",
       "    </tr>\n",
       "    <tr>\n",
       "      <th>2021-10</th>\n",
       "      <td>16.02</td>\n",
       "    </tr>\n",
       "    <tr>\n",
       "      <th>Total</th>\n",
       "      <td>205.26</td>\n",
       "    </tr>\n",
       "  </tbody>\n",
       "</table>\n",
       "</div>"
      ],
      "text/plain": [
       "         Monthly_Dividend_Income\n",
       "2021-07                    16.67\n",
       "2021-08                    20.57\n",
       "2021-09                    21.64\n",
       "2021-10                    16.02\n",
       "Total                     205.26"
      ]
     },
     "execution_count": 10,
     "metadata": {},
     "output_type": "execute_result"
    }
   ],
   "source": [
    "stock_dividends.loc['Total'] = stock_dividends.sum(numeric_only=True, axis=0)\n",
    "stock_dividends.tail()"
   ]
  },
  {
   "cell_type": "markdown",
   "metadata": {},
   "source": [
    "## TAA Quantitative Investing"
   ]
  },
  {
   "cell_type": "markdown",
   "metadata": {},
   "source": [
    "### Quant Balance"
   ]
  },
  {
   "cell_type": "code",
   "execution_count": 11,
   "metadata": {},
   "outputs": [
    {
     "data": {
      "text/html": [
       "<div>\n",
       "<style scoped>\n",
       "    .dataframe tbody tr th:only-of-type {\n",
       "        vertical-align: middle;\n",
       "    }\n",
       "\n",
       "    .dataframe tbody tr th {\n",
       "        vertical-align: top;\n",
       "    }\n",
       "\n",
       "    .dataframe thead th {\n",
       "        text-align: right;\n",
       "    }\n",
       "</style>\n",
       "<table border=\"1\" class=\"dataframe\">\n",
       "  <thead>\n",
       "    <tr style=\"text-align: right;\">\n",
       "      <th></th>\n",
       "      <th>Cash</th>\n",
       "      <th>Market_Value</th>\n",
       "      <th>Total_Equity</th>\n",
       "      <th>Cash (%)</th>\n",
       "      <th>Investment (%)</th>\n",
       "    </tr>\n",
       "    <tr>\n",
       "      <th>Currency</th>\n",
       "      <th></th>\n",
       "      <th></th>\n",
       "      <th></th>\n",
       "      <th></th>\n",
       "      <th></th>\n",
       "    </tr>\n",
       "  </thead>\n",
       "  <tbody>\n",
       "    <tr>\n",
       "      <th>CAD</th>\n",
       "      <td>0</td>\n",
       "      <td>0</td>\n",
       "      <td>0</td>\n",
       "      <td>0.0</td>\n",
       "      <td>0.0</td>\n",
       "    </tr>\n",
       "    <tr>\n",
       "      <th>USD</th>\n",
       "      <td>10000</td>\n",
       "      <td>0</td>\n",
       "      <td>10000</td>\n",
       "      <td>100.0</td>\n",
       "      <td>0.0</td>\n",
       "    </tr>\n",
       "  </tbody>\n",
       "</table>\n",
       "</div>"
      ],
      "text/plain": [
       "           Cash  Market_Value  Total_Equity  Cash (%)  Investment (%)\n",
       "Currency                                                             \n",
       "CAD           0             0             0       0.0             0.0\n",
       "USD       10000             0         10000     100.0             0.0"
      ]
     },
     "execution_count": 11,
     "metadata": {},
     "output_type": "execute_result"
    }
   ],
   "source": [
    "quant_bal"
   ]
  },
  {
   "cell_type": "markdown",
   "metadata": {},
   "source": [
    "### Quant Portfolio"
   ]
  },
  {
   "cell_type": "code",
   "execution_count": 12,
   "metadata": {},
   "outputs": [
    {
     "data": {
      "text/html": [
       "<div>\n",
       "<style scoped>\n",
       "    .dataframe tbody tr th:only-of-type {\n",
       "        vertical-align: middle;\n",
       "    }\n",
       "\n",
       "    .dataframe tbody tr th {\n",
       "        vertical-align: top;\n",
       "    }\n",
       "\n",
       "    .dataframe thead th {\n",
       "        text-align: right;\n",
       "    }\n",
       "</style>\n",
       "<table border=\"1\" class=\"dataframe\">\n",
       "  <thead>\n",
       "    <tr style=\"text-align: right;\">\n",
       "      <th></th>\n",
       "      <th>Description</th>\n",
       "      <th>Currency</th>\n",
       "      <th>Quantities</th>\n",
       "      <th>Market Value</th>\n",
       "      <th>Return (%)</th>\n",
       "      <th>Portfolio (%)</th>\n",
       "    </tr>\n",
       "  </thead>\n",
       "  <tbody>\n",
       "  </tbody>\n",
       "</table>\n",
       "</div>"
      ],
      "text/plain": [
       "Empty DataFrame\n",
       "Columns: [Description, Currency, Quantities, Market Value, Return (%), Portfolio (%)]\n",
       "Index: []"
      ]
     },
     "execution_count": 12,
     "metadata": {},
     "output_type": "execute_result"
    }
   ],
   "source": [
    "quant_portfolio"
   ]
  },
  {
   "cell_type": "code",
   "execution_count": 13,
   "metadata": {},
   "outputs": [
    {
     "name": "stderr",
     "output_type": "stream",
     "text": [
      "C:\\Users\\eshin\\anaconda3\\lib\\site-packages\\pandas\\plotting\\_matplotlib\\core.py:1583: MatplotlibDeprecationWarning: normalize=None does not normalize if the sum is less than 1 but this behavior is deprecated since 3.3 until two minor releases later. After the deprecation period the default value will be normalize=True. To prevent normalization pass normalize=False \n",
      "  results = ax.pie(y, labels=blabels, **kwds)\n"
     ]
    },
    {
     "data": {
      "text/plain": [
       "<AxesSubplot:title={'center':'Portfolio Breakdown'}, ylabel='Portfolio (%)'>"
      ]
     },
     "execution_count": 13,
     "metadata": {},
     "output_type": "execute_result"
    },
    {
     "data": {
      "image/png": "[encoded data removed]",
      "text/plain": [
       "<Figure size 720x720 with 1 Axes>"
      ]
     },
     "metadata": {},
     "output_type": "display_data"
    }
   ],
   "source": [
    "quant_portfolio['Portfolio (%)'].plot(kind='pie',\n",
    "                             title='Portfolio Breakdown',\n",
    "                             figsize=(10, 10),\n",
    "                             legend=True)"
   ]
  },
  {
   "cell_type": "markdown",
   "metadata": {},
   "source": [
    "### Quant Portfolio Return"
   ]
  },
  {
   "cell_type": "code",
   "execution_count": 14,
   "metadata": {},
   "outputs": [
    {
     "data": {
      "text/plain": [
       "0.0"
      ]
     },
     "execution_count": 14,
     "metadata": {},
     "output_type": "execute_result"
    }
   ],
   "source": [
    "quant_return"
   ]
  },
  {
   "cell_type": "markdown",
   "metadata": {},
   "source": [
    "### Quant Dividends"
   ]
  },
  {
   "cell_type": "code",
   "execution_count": 15,
   "metadata": {},
   "outputs": [
    {
     "data": {
      "text/html": [
       "<div>\n",
       "<style scoped>\n",
       "    .dataframe tbody tr th:only-of-type {\n",
       "        vertical-align: middle;\n",
       "    }\n",
       "\n",
       "    .dataframe tbody tr th {\n",
       "        vertical-align: top;\n",
       "    }\n",
       "\n",
       "    .dataframe thead th {\n",
       "        text-align: right;\n",
       "    }\n",
       "</style>\n",
       "<table border=\"1\" class=\"dataframe\">\n",
       "  <thead>\n",
       "    <tr style=\"text-align: right;\">\n",
       "      <th></th>\n",
       "      <th>Monthly_Dividend_Income</th>\n",
       "    </tr>\n",
       "  </thead>\n",
       "  <tbody>\n",
       "    <tr>\n",
       "      <th>2021-07</th>\n",
       "      <td>0</td>\n",
       "    </tr>\n",
       "    <tr>\n",
       "      <th>2021-08</th>\n",
       "      <td>0</td>\n",
       "    </tr>\n",
       "    <tr>\n",
       "      <th>2021-09</th>\n",
       "      <td>0</td>\n",
       "    </tr>\n",
       "    <tr>\n",
       "      <th>2021-10</th>\n",
       "      <td>0</td>\n",
       "    </tr>\n",
       "    <tr>\n",
       "      <th>Total</th>\n",
       "      <td>0</td>\n",
       "    </tr>\n",
       "  </tbody>\n",
       "</table>\n",
       "</div>"
      ],
      "text/plain": [
       "         Monthly_Dividend_Income\n",
       "2021-07                        0\n",
       "2021-08                        0\n",
       "2021-09                        0\n",
       "2021-10                        0\n",
       "Total                          0"
      ]
     },
     "execution_count": 15,
     "metadata": {},
     "output_type": "execute_result"
    }
   ],
   "source": [
    "quant_dividends.loc['Total'] = quant_dividends.sum(numeric_only=True, axis=0)\n",
    "quant_dividends.tail()"
   ]
  },
  {
   "cell_type": "code",
   "execution_count": 16,
   "metadata": {},
   "outputs": [
    {
     "data": {
      "text/plain": [
       "<AxesSubplot:title={'center':'Monthly Dividend Payments'}, xlabel='Months', ylabel='Dividend ($)'>"
      ]
     },
     "execution_count": 16,
     "metadata": {},
     "output_type": "execute_result"
    },
    {
     "data": {
      "image/png": "[encoded data removed]",
      "text/plain": [
       "<Figure size 1080x720 with 1 Axes>"
      ]
     },
     "metadata": {
      "needs_background": "light"
     },
     "output_type": "display_data"
    }
   ],
   "source": [
    "quant_dividends[:-1].plot(kind='bar',\n",
    "                    title='Monthly Dividend Payments',\n",
    "                    xlabel='Months',\n",
    "                    ylabel='Dividend ($)',\n",
    "                    figsize=(15, 10),\n",
    "                    legend=False,\n",
    "                    ylim=(0, 30))"
   ]
  }
 ],
 "metadata": {
  "kernelspec": {
   "display_name": "Python 3",
   "language": "python",
   "name": "python3"
  },
  "language_info": {
   "codemirror_mode": {
    "name": "ipython",
    "version": 3
   },
   "file_extension": ".py",
   "mimetype": "text/x-python",
   "name": "python",
   "nbconvert_exporter": "python",
   "pygments_lexer": "ipython3",
   "version": "3.8.10"
  },
  "toc": {
   "base_numbering": 1,
   "nav_menu": {},
   "number_sections": false,
   "sideBar": true,
   "skip_h1_title": true,
   "title_cell": "Table of Contents",
   "title_sidebar": "Contents",
   "toc_cell": false,
   "toc_position": {
    "height": "calc(100% - 180px)",
    "left": "10px",
    "top": "150px",
    "width": "384px"
   },
   "toc_section_display": true,
   "toc_window_display": true
  },
  "varInspector": {
   "cols": {
    "lenName": 16,
    "lenType": 16,
    "lenVar": 40
   },
   "kernels_config": {
    "python": {
     "delete_cmd_postfix": "",
     "delete_cmd_prefix": "del ",
     "library": "var_list.py",
     "varRefreshCmd": "print(var_dic_list())"
    },
    "r": {
     "delete_cmd_postfix": ") ",
     "delete_cmd_prefix": "rm(",
     "library": "var_list.r",
     "varRefreshCmd": "cat(var_dic_list()) "
    }
   },
   "types_to_exclude": [
    "module",
    "function",
    "builtin_function_or_method",
    "instance",
    "_Feature"
   ],
   "window_display": false
  }
 },
 "nbformat": 4,
 "nbformat_minor": 4
}
