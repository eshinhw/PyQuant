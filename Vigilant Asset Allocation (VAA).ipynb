{
 "cells": [
  {
   "cell_type": "markdown",
   "id": "30bba653",
   "metadata": {},
   "source": [
    "# Vigilant Asset Allocation (VAA)"
   ]
  },
  {
   "cell_type": "markdown",
   "id": "ea074e2b",
   "metadata": {},
   "source": [
    "Vigilant Asset Allocation (VAA) is introduced by Wouter J. Keller and Jan Willem Keuning in research paper \"Breadth Momentum and Vigilant Asset Allocation (VAA): Winning More by Losing Less\" (https://papers.ssrn.com/sol3/papers.cfm?abstract_id=3002624)\n"
   ]
  },
  {
   "cell_type": "code",
   "execution_count": 2,
   "id": "e825114d",
   "metadata": {},
   "outputs": [],
   "source": [
    "import pandas as pd\n",
    "import src.fmp as fmp"
   ]
  },
  {
   "cell_type": "markdown",
   "id": "9dbe3688",
   "metadata": {},
   "source": [
    "## Portfolio Assets"
   ]
  },
  {
   "cell_type": "code",
   "execution_count": 3,
   "id": "f7315d85",
   "metadata": {},
   "outputs": [],
   "source": [
    "offensive = ['SPY', 'VEA', 'VWO', 'AGG']\n",
    "defensive = ['SHY', 'IEF', 'LQD']"
   ]
  },
  {
   "cell_type": "markdown",
   "id": "407061f4",
   "metadata": {},
   "source": [
    "## Upgrade version of dual momentum"
   ]
  },
  {
   "cell_type": "markdown",
   "id": "baa37ed2",
   "metadata": {},
   "source": [
    "1. We buy the strongest asset in terms of momentum in offensive assets.\n",
    "2. If the most recent return of any of the offensive assets is negative, we go to defensive asset."
   ]
  },
  {
   "cell_type": "markdown",
   "id": "28af477e",
   "metadata": {},
   "source": [
    "## How to compute recent returns and weights"
   ]
  },
  {
   "cell_type": "markdown",
   "id": "b4b1631b",
   "metadata": {},
   "source": [
    "recent_return = 12 * (recent 1M return) + 4 * (recent 4M return) + 2 * (recent 6M return) + 1 * (recent 12M return)"
   ]
  },
  {
   "cell_type": "code",
   "execution_count": 7,
   "id": "09d7de47",
   "metadata": {},
   "outputs": [
    {
     "data": {
      "text/html": [
       "<div>\n",
       "<style scoped>\n",
       "    .dataframe tbody tr th:only-of-type {\n",
       "        vertical-align: middle;\n",
       "    }\n",
       "\n",
       "    .dataframe tbody tr th {\n",
       "        vertical-align: top;\n",
       "    }\n",
       "\n",
       "    .dataframe thead th {\n",
       "        text-align: right;\n",
       "    }\n",
       "</style>\n",
       "<table border=\"1\" class=\"dataframe\">\n",
       "  <thead>\n",
       "    <tr style=\"text-align: right;\">\n",
       "      <th></th>\n",
       "      <th>SPY</th>\n",
       "      <th>VEA</th>\n",
       "      <th>VWO</th>\n",
       "      <th>AGG</th>\n",
       "    </tr>\n",
       "    <tr>\n",
       "      <th>Date</th>\n",
       "      <th></th>\n",
       "      <th></th>\n",
       "      <th></th>\n",
       "      <th></th>\n",
       "    </tr>\n",
       "  </thead>\n",
       "  <tbody>\n",
       "    <tr>\n",
       "      <th>2016-09-23</th>\n",
       "      <td>215.990005</td>\n",
       "      <td>37.439999</td>\n",
       "      <td>37.689999</td>\n",
       "      <td>112.230003</td>\n",
       "    </tr>\n",
       "    <tr>\n",
       "      <th>2016-09-26</th>\n",
       "      <td>214.240005</td>\n",
       "      <td>37.110001</td>\n",
       "      <td>37.230000</td>\n",
       "      <td>112.370003</td>\n",
       "    </tr>\n",
       "    <tr>\n",
       "      <th>2016-09-27</th>\n",
       "      <td>215.570007</td>\n",
       "      <td>37.290001</td>\n",
       "      <td>37.619999</td>\n",
       "      <td>112.510002</td>\n",
       "    </tr>\n",
       "    <tr>\n",
       "      <th>2016-09-28</th>\n",
       "      <td>216.639999</td>\n",
       "      <td>37.619999</td>\n",
       "      <td>37.990002</td>\n",
       "      <td>112.540001</td>\n",
       "    </tr>\n",
       "    <tr>\n",
       "      <th>2016-09-29</th>\n",
       "      <td>214.679993</td>\n",
       "      <td>37.160000</td>\n",
       "      <td>37.360001</td>\n",
       "      <td>112.540001</td>\n",
       "    </tr>\n",
       "    <tr>\n",
       "      <th>...</th>\n",
       "      <td>...</td>\n",
       "      <td>...</td>\n",
       "      <td>...</td>\n",
       "      <td>...</td>\n",
       "    </tr>\n",
       "    <tr>\n",
       "      <th>2021-09-16</th>\n",
       "      <td>447.170000</td>\n",
       "      <td>52.930000</td>\n",
       "      <td>51.650000</td>\n",
       "      <td>115.970000</td>\n",
       "    </tr>\n",
       "    <tr>\n",
       "      <th>2021-09-17</th>\n",
       "      <td>441.400000</td>\n",
       "      <td>52.270000</td>\n",
       "      <td>51.450000</td>\n",
       "      <td>115.870000</td>\n",
       "    </tr>\n",
       "    <tr>\n",
       "      <th>2021-09-20</th>\n",
       "      <td>434.040000</td>\n",
       "      <td>51.080000</td>\n",
       "      <td>49.590000</td>\n",
       "      <td>116.090000</td>\n",
       "    </tr>\n",
       "    <tr>\n",
       "      <th>2021-09-21</th>\n",
       "      <td>433.630000</td>\n",
       "      <td>51.520000</td>\n",
       "      <td>49.990000</td>\n",
       "      <td>116.140000</td>\n",
       "    </tr>\n",
       "    <tr>\n",
       "      <th>2021-09-22</th>\n",
       "      <td>437.860000</td>\n",
       "      <td>51.800000</td>\n",
       "      <td>50.710000</td>\n",
       "      <td>116.180000</td>\n",
       "    </tr>\n",
       "  </tbody>\n",
       "</table>\n",
       "<p>1258 rows × 4 columns</p>\n",
       "</div>"
      ],
      "text/plain": [
       "                   SPY        VEA        VWO         AGG\n",
       "Date                                                    \n",
       "2016-09-23  215.990005  37.439999  37.689999  112.230003\n",
       "2016-09-26  214.240005  37.110001  37.230000  112.370003\n",
       "2016-09-27  215.570007  37.290001  37.619999  112.510002\n",
       "2016-09-28  216.639999  37.619999  37.990002  112.540001\n",
       "2016-09-29  214.679993  37.160000  37.360001  112.540001\n",
       "...                ...        ...        ...         ...\n",
       "2021-09-16  447.170000  52.930000  51.650000  115.970000\n",
       "2021-09-17  441.400000  52.270000  51.450000  115.870000\n",
       "2021-09-20  434.040000  51.080000  49.590000  116.090000\n",
       "2021-09-21  433.630000  51.520000  49.990000  116.140000\n",
       "2021-09-22  437.860000  51.800000  50.710000  116.180000\n",
       "\n",
       "[1258 rows x 4 columns]"
      ]
     },
     "execution_count": 7,
     "metadata": {},
     "output_type": "execute_result"
    }
   ],
   "source": [
    "offensive_prices = pd.DataFrame()\n",
    "\n",
    "for symbol in offensive:\n",
    "    data = fmp.get_daily_prices(symbol)\n",
    "    offensive_prices[symbol] = data['Close']\n",
    "\n",
    "offensive_prices"
   ]
  },
  {
   "cell_type": "code",
   "execution_count": 8,
   "id": "e265787a",
   "metadata": {},
   "outputs": [
    {
     "data": {
      "text/plain": [
       "{'1M': [-0.013339943215106493,\n",
       "  -0.016891250711710014,\n",
       "  -0.02160910669496426,\n",
       "  0.005539207200969366],\n",
       " '3M': [0.05376398630969352,\n",
       "  0.007194244604316497,\n",
       "  -0.02160910669496426,\n",
       "  0.017338030227794232],\n",
       " '6M': [0.1721590525121367,\n",
       "  0.06716108225873338,\n",
       "  -0.006076048608388911,\n",
       "  -0.009885768191094811],\n",
       " '12M': [0.3571162275082339,\n",
       "  0.2850409008920639,\n",
       "  0.19938508040172861,\n",
       "  -0.016090802572987648]}"
      ]
     },
     "execution_count": 8,
     "metadata": {},
     "output_type": "execute_result"
    }
   ],
   "source": [
    "\n",
    "mom = {'1M': [], '3M': [], '6M': [], '12M': []}\n",
    "\n",
    "for symbol in offensive:\n",
    "    mom['1M'].append(fmp.calculate_hist_momentum(symbol,30))\n",
    "    mom['3M'].append(fmp.calculate_hist_momentum(symbol,90))\n",
    "    mom['6M'].append(fmp.calculate_hist_momentum(symbol,180))\n",
    "    mom['12M'].append(fmp.calculate_hist_momentum(symbol,252))\n",
    "\n",
    "mom"
   ]
  },
  {
   "cell_type": "code",
   "execution_count": 11,
   "id": "3996daf1",
   "metadata": {},
   "outputs": [
    {
     "data": {
      "text/html": [
       "<div>\n",
       "<style scoped>\n",
       "    .dataframe tbody tr th:only-of-type {\n",
       "        vertical-align: middle;\n",
       "    }\n",
       "\n",
       "    .dataframe tbody tr th {\n",
       "        vertical-align: top;\n",
       "    }\n",
       "\n",
       "    .dataframe thead th {\n",
       "        text-align: right;\n",
       "    }\n",
       "</style>\n",
       "<table border=\"1\" class=\"dataframe\">\n",
       "  <thead>\n",
       "    <tr style=\"text-align: right;\">\n",
       "      <th></th>\n",
       "      <th>1M</th>\n",
       "      <th>3M</th>\n",
       "      <th>6M</th>\n",
       "      <th>12M</th>\n",
       "    </tr>\n",
       "  </thead>\n",
       "  <tbody>\n",
       "    <tr>\n",
       "      <th>SPY</th>\n",
       "      <td>-0.013340</td>\n",
       "      <td>0.053764</td>\n",
       "      <td>0.172159</td>\n",
       "      <td>0.357116</td>\n",
       "    </tr>\n",
       "    <tr>\n",
       "      <th>VEA</th>\n",
       "      <td>-0.016891</td>\n",
       "      <td>0.007194</td>\n",
       "      <td>0.067161</td>\n",
       "      <td>0.285041</td>\n",
       "    </tr>\n",
       "    <tr>\n",
       "      <th>VWO</th>\n",
       "      <td>-0.021609</td>\n",
       "      <td>-0.021609</td>\n",
       "      <td>-0.006076</td>\n",
       "      <td>0.199385</td>\n",
       "    </tr>\n",
       "    <tr>\n",
       "      <th>AGG</th>\n",
       "      <td>0.005539</td>\n",
       "      <td>0.017338</td>\n",
       "      <td>-0.009886</td>\n",
       "      <td>-0.016091</td>\n",
       "    </tr>\n",
       "  </tbody>\n",
       "</table>\n",
       "</div>"
      ],
      "text/plain": [
       "           1M        3M        6M       12M\n",
       "SPY -0.013340  0.053764  0.172159  0.357116\n",
       "VEA -0.016891  0.007194  0.067161  0.285041\n",
       "VWO -0.021609 -0.021609 -0.006076  0.199385\n",
       "AGG  0.005539  0.017338 -0.009886 -0.016091"
      ]
     },
     "execution_count": 11,
     "metadata": {},
     "output_type": "execute_result"
    }
   ],
   "source": [
    "offensive_momentums = pd.DataFrame(mom, index=offensive)\n",
    "offensive_momentums"
   ]
  },
  {
   "cell_type": "code",
   "execution_count": null,
   "id": "0f37ac3e",
   "metadata": {},
   "outputs": [],
   "source": []
  }
 ],
 "metadata": {
  "kernelspec": {
   "display_name": "Python 3",
   "language": "python",
   "name": "python3"
  },
  "language_info": {
   "codemirror_mode": {
    "name": "ipython",
    "version": 3
   },
   "file_extension": ".py",
   "mimetype": "text/x-python",
   "name": "python",
   "nbconvert_exporter": "python",
   "pygments_lexer": "ipython3",
   "version": "3.8.10"
  },
  "toc": {
   "base_numbering": 1,
   "nav_menu": {},
   "number_sections": false,
   "sideBar": true,
   "skip_h1_title": true,
   "title_cell": "Table of Contents",
   "title_sidebar": "Contents",
   "toc_cell": false,
   "toc_position": {},
   "toc_section_display": true,
   "toc_window_display": false
  },
  "varInspector": {
   "cols": {
    "lenName": 16,
    "lenType": 16,
    "lenVar": 40
   },
   "kernels_config": {
    "python": {
     "delete_cmd_postfix": "",
     "delete_cmd_prefix": "del ",
     "library": "var_list.py",
     "varRefreshCmd": "print(var_dic_list())"
    },
    "r": {
     "delete_cmd_postfix": ") ",
     "delete_cmd_prefix": "rm(",
     "library": "var_list.r",
     "varRefreshCmd": "cat(var_dic_list()) "
    }
   },
   "types_to_exclude": [
    "module",
    "function",
    "builtin_function_or_method",
    "instance",
    "_Feature"
   ],
   "window_display": false
  }
 },
 "nbformat": 4,
 "nbformat_minor": 5
}
