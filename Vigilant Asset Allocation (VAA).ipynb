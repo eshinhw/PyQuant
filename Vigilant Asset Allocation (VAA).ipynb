{
 "cells": [
  {
   "cell_type": "markdown",
   "id": "769f670a",
   "metadata": {},
   "source": [
    "# Vigilant Asset Allocation (VAA)"
   ]
  },
  {
   "cell_type": "markdown",
   "id": "35ad50cd",
   "metadata": {},
   "source": [
    "Vigilant Asset Allocation (VAA) is introduced by Wouter J. Keller and Jan Willem Keuning in research paper \"Breadth Momentum and Vigilant Asset Allocation (VAA): Winning More by Losing Less\" (https://papers.ssrn.com/sol3/papers.cfm?abstract_id=3002624)\n",
    "\n",
    "VAA strategy is an upgraded version of dual momentum with fast filter. \n",
    "\n",
    "1. We buy the strongest asset in terms of momentum in offensive assets.\n",
    "2. If the most recent return of any of the offensive assets is negative, we go to defensive asset.\n",
    "\n",
    "When it comes to computing returns' weights, it emphasizes the most recent 1 month return.\n",
    "\n",
    "recent_return = 12 * (recent 1M return) + 4 * (recent 4M return) + 2 * (recent 6M return) + 1 * (recent 12M return)"
   ]
  },
  {
   "cell_type": "code",
   "execution_count": 1,
   "id": "da74954e",
   "metadata": {},
   "outputs": [],
   "source": [
    "import pandas as pd\n",
    "import src.fmp as fmp\n",
    "import datetime as dt"
   ]
  },
  {
   "cell_type": "markdown",
   "id": "1392e133",
   "metadata": {},
   "source": [
    "## Portfolio Assets"
   ]
  },
  {
   "cell_type": "code",
   "execution_count": 2,
   "id": "7a74cb3e",
   "metadata": {},
   "outputs": [],
   "source": [
    "offensive = ['SPY', 'VEA', 'VWO', 'AGG']\n",
    "defensive = ['SHY', 'IEF', 'LQD']"
   ]
  },
  {
   "cell_type": "markdown",
   "id": "8ea0bc97",
   "metadata": {},
   "source": [
    "## Upgrade version of dual momentum"
   ]
  },
  {
   "cell_type": "markdown",
   "id": "a6410c53",
   "metadata": {},
   "source": []
  },
  {
   "cell_type": "markdown",
   "id": "7d493cb9",
   "metadata": {},
   "source": [
    "## Recent returns' weights"
   ]
  },
  {
   "cell_type": "markdown",
   "id": "ab56e6d9",
   "metadata": {},
   "source": []
  },
  {
   "cell_type": "markdown",
   "id": "3aa53278",
   "metadata": {},
   "source": [
    "## Calculate monthly prices of offensive assets"
   ]
  },
  {
   "cell_type": "code",
   "execution_count": 18,
   "id": "35e7848a",
   "metadata": {},
   "outputs": [
    {
     "data": {
      "text/html": [
       "<div>\n",
       "<style scoped>\n",
       "    .dataframe tbody tr th:only-of-type {\n",
       "        vertical-align: middle;\n",
       "    }\n",
       "\n",
       "    .dataframe tbody tr th {\n",
       "        vertical-align: top;\n",
       "    }\n",
       "\n",
       "    .dataframe thead th {\n",
       "        text-align: right;\n",
       "    }\n",
       "</style>\n",
       "<table border=\"1\" class=\"dataframe\">\n",
       "  <thead>\n",
       "    <tr style=\"text-align: right;\">\n",
       "      <th></th>\n",
       "      <th>SPY</th>\n",
       "      <th>VEA</th>\n",
       "      <th>VWO</th>\n",
       "      <th>AGG</th>\n",
       "    </tr>\n",
       "  </thead>\n",
       "  <tbody>\n",
       "    <tr>\n",
       "      <th>2020-08-31</th>\n",
       "      <td>349.309998</td>\n",
       "      <td>41.869999</td>\n",
       "      <td>44.189999</td>\n",
       "      <td>118.370003</td>\n",
       "    </tr>\n",
       "    <tr>\n",
       "      <th>2020-09-30</th>\n",
       "      <td>334.890015</td>\n",
       "      <td>40.900002</td>\n",
       "      <td>43.240002</td>\n",
       "      <td>118.059998</td>\n",
       "    </tr>\n",
       "    <tr>\n",
       "      <th>2020-10-30</th>\n",
       "      <td>326.540009</td>\n",
       "      <td>39.450001</td>\n",
       "      <td>43.810001</td>\n",
       "      <td>117.199997</td>\n",
       "    </tr>\n",
       "    <tr>\n",
       "      <th>2020-11-30</th>\n",
       "      <td>362.059998</td>\n",
       "      <td>45.090000</td>\n",
       "      <td>47.560001</td>\n",
       "      <td>118.419998</td>\n",
       "    </tr>\n",
       "    <tr>\n",
       "      <th>2020-12-31</th>\n",
       "      <td>373.880005</td>\n",
       "      <td>47.209999</td>\n",
       "      <td>50.110001</td>\n",
       "      <td>118.190002</td>\n",
       "    </tr>\n",
       "    <tr>\n",
       "      <th>2021-01-29</th>\n",
       "      <td>370.070007</td>\n",
       "      <td>46.869999</td>\n",
       "      <td>51.680000</td>\n",
       "      <td>117.309998</td>\n",
       "    </tr>\n",
       "    <tr>\n",
       "      <th>2021-02-26</th>\n",
       "      <td>380.359985</td>\n",
       "      <td>48.009998</td>\n",
       "      <td>52.490002</td>\n",
       "      <td>115.339996</td>\n",
       "    </tr>\n",
       "    <tr>\n",
       "      <th>2021-03-31</th>\n",
       "      <td>396.329987</td>\n",
       "      <td>49.110001</td>\n",
       "      <td>52.049999</td>\n",
       "      <td>113.830002</td>\n",
       "    </tr>\n",
       "    <tr>\n",
       "      <th>2021-04-30</th>\n",
       "      <td>417.299988</td>\n",
       "      <td>50.610000</td>\n",
       "      <td>52.980000</td>\n",
       "      <td>114.489998</td>\n",
       "    </tr>\n",
       "    <tr>\n",
       "      <th>2021-05-28</th>\n",
       "      <td>420.040009</td>\n",
       "      <td>52.420000</td>\n",
       "      <td>53.880000</td>\n",
       "      <td>114.550003</td>\n",
       "    </tr>\n",
       "    <tr>\n",
       "      <th>2021-06-30</th>\n",
       "      <td>428.060000</td>\n",
       "      <td>51.520000</td>\n",
       "      <td>54.310000</td>\n",
       "      <td>115.330002</td>\n",
       "    </tr>\n",
       "    <tr>\n",
       "      <th>2021-07-30</th>\n",
       "      <td>438.510000</td>\n",
       "      <td>51.780000</td>\n",
       "      <td>51.110000</td>\n",
       "      <td>116.460000</td>\n",
       "    </tr>\n",
       "    <tr>\n",
       "      <th>2021-08-31</th>\n",
       "      <td>451.560000</td>\n",
       "      <td>52.460000</td>\n",
       "      <td>52.230000</td>\n",
       "      <td>116.060000</td>\n",
       "    </tr>\n",
       "  </tbody>\n",
       "</table>\n",
       "</div>"
      ],
      "text/plain": [
       "                   SPY        VEA        VWO         AGG\n",
       "2020-08-31  349.309998  41.869999  44.189999  118.370003\n",
       "2020-09-30  334.890015  40.900002  43.240002  118.059998\n",
       "2020-10-30  326.540009  39.450001  43.810001  117.199997\n",
       "2020-11-30  362.059998  45.090000  47.560001  118.419998\n",
       "2020-12-31  373.880005  47.209999  50.110001  118.190002\n",
       "2021-01-29  370.070007  46.869999  51.680000  117.309998\n",
       "2021-02-26  380.359985  48.009998  52.490002  115.339996\n",
       "2021-03-31  396.329987  49.110001  52.049999  113.830002\n",
       "2021-04-30  417.299988  50.610000  52.980000  114.489998\n",
       "2021-05-28  420.040009  52.420000  53.880000  114.550003\n",
       "2021-06-30  428.060000  51.520000  54.310000  115.330002\n",
       "2021-07-30  438.510000  51.780000  51.110000  116.460000\n",
       "2021-08-31  451.560000  52.460000  52.230000  116.060000"
      ]
     },
     "execution_count": 18,
     "metadata": {},
     "output_type": "execute_result"
    }
   ],
   "source": [
    "offensive_monthly = pd.DataFrame()\n",
    "\n",
    "for symbol in offensive:\n",
    "    offensive_monthly[symbol] = fmp.get_monthly_prices(symbol)[symbol]"
   ]
  },
  {
   "cell_type": "markdown",
   "id": "1ec5f221",
   "metadata": {},
   "source": [
    "## Offensive assets momentum"
   ]
  },
  {
   "cell_type": "code",
   "execution_count": 19,
   "id": "20f935f5",
   "metadata": {},
   "outputs": [
    {
     "name": "stdout",
     "output_type": "stream",
     "text": [
      "SPY\n",
      "VEA\n",
      "VWO\n",
      "AGG\n"
     ]
    }
   ],
   "source": [
    "momentum_data = {'1M': [], '3M': [], '6M': [], '12M': []}\n",
    "for symbol in offensive_monthly.columns:\n",
    "    print(symbol)\n",
    "    curr = offensive_monthly[symbol][-1]\n",
    "    m1_ret = (curr - offensive_monthly[symbol].shift(1)[-1]) / offensive_monthly[symbol].shift(1)[-1]\n",
    "    momentum_data['1M'].append(m1_ret)\n",
    "    m3_ret = (curr - offensive_monthly[symbol].shift(3)[-1]) / offensive_monthly[symbol].shift(3)[-1]\n",
    "    momentum_data['3M'].append(m3_ret)\n",
    "    m6_ret = (curr - offensive_monthly[symbol].shift(6)[-1]) / offensive_monthly[symbol].shift(6)[-1]\n",
    "    momentum_data['6M'].append(m6_ret)\n",
    "    m12_ret = (curr - offensive_monthly[symbol].shift(12)[-1]) / offensive_monthly[symbol].shift(12)[-1]\n",
    "    momentum_data['12M'].append(m12_ret)"
   ]
  },
  {
   "cell_type": "code",
   "execution_count": 22,
   "id": "1add54f8",
   "metadata": {},
   "outputs": [
    {
     "data": {
      "text/html": [
       "<div>\n",
       "<style scoped>\n",
       "    .dataframe tbody tr th:only-of-type {\n",
       "        vertical-align: middle;\n",
       "    }\n",
       "\n",
       "    .dataframe tbody tr th {\n",
       "        vertical-align: top;\n",
       "    }\n",
       "\n",
       "    .dataframe thead th {\n",
       "        text-align: right;\n",
       "    }\n",
       "</style>\n",
       "<table border=\"1\" class=\"dataframe\">\n",
       "  <thead>\n",
       "    <tr style=\"text-align: right;\">\n",
       "      <th></th>\n",
       "      <th>1M</th>\n",
       "      <th>3M</th>\n",
       "      <th>6M</th>\n",
       "      <th>12M</th>\n",
       "      <th>Score</th>\n",
       "    </tr>\n",
       "  </thead>\n",
       "  <tbody>\n",
       "    <tr>\n",
       "      <th>SPY</th>\n",
       "      <td>0.029760</td>\n",
       "      <td>0.075040</td>\n",
       "      <td>0.187191</td>\n",
       "      <td>0.292720</td>\n",
       "      <td>1.324382</td>\n",
       "    </tr>\n",
       "    <tr>\n",
       "      <th>VEA</th>\n",
       "      <td>0.013132</td>\n",
       "      <td>0.000763</td>\n",
       "      <td>0.092689</td>\n",
       "      <td>0.252926</td>\n",
       "      <td>0.598946</td>\n",
       "    </tr>\n",
       "    <tr>\n",
       "      <th>VWO</th>\n",
       "      <td>0.021914</td>\n",
       "      <td>-0.030624</td>\n",
       "      <td>-0.004953</td>\n",
       "      <td>0.181942</td>\n",
       "      <td>0.312503</td>\n",
       "    </tr>\n",
       "    <tr>\n",
       "      <th>AGG</th>\n",
       "      <td>-0.003435</td>\n",
       "      <td>0.013182</td>\n",
       "      <td>0.006242</td>\n",
       "      <td>-0.019515</td>\n",
       "      <td>0.004482</td>\n",
       "    </tr>\n",
       "  </tbody>\n",
       "</table>\n",
       "</div>"
      ],
      "text/plain": [
       "           1M        3M        6M       12M     Score\n",
       "SPY  0.029760  0.075040  0.187191  0.292720  1.324382\n",
       "VEA  0.013132  0.000763  0.092689  0.252926  0.598946\n",
       "VWO  0.021914 -0.030624 -0.004953  0.181942  0.312503\n",
       "AGG -0.003435  0.013182  0.006242 -0.019515  0.004482"
      ]
     },
     "execution_count": 22,
     "metadata": {},
     "output_type": "execute_result"
    }
   ],
   "source": [
    "offensive_momentum = pd.DataFrame(momentum_data, index=offensive)\n",
    "offensive_momentum['Score'] = 12 * offensive_momentum['1M'] + 4 * offensive_momentum['3M'] + 2 * offensive_momentum['6M'] + 1 * offensive_momentum['12M']\n",
    "offensive_momentum"
   ]
  },
  {
   "cell_type": "markdown",
   "id": "2734e560",
   "metadata": {},
   "source": [
    "## Defensive Assets Momentum"
   ]
  },
  {
   "cell_type": "code",
   "execution_count": 26,
   "id": "0c744027",
   "metadata": {},
   "outputs": [],
   "source": [
    "defensive_monthly = pd.DataFrame()\n",
    "\n",
    "for symbol in defensive:\n",
    "    defensive_monthly[symbol] = fmp.get_monthly_prices(symbol)[symbol]"
   ]
  },
  {
   "cell_type": "code",
   "execution_count": 27,
   "id": "01151bd9",
   "metadata": {},
   "outputs": [
    {
     "name": "stdout",
     "output_type": "stream",
     "text": [
      "SHY\n",
      "IEF\n",
      "LQD\n"
     ]
    }
   ],
   "source": [
    "momentum_data = {'1M': [], '3M': [], '6M': [], '12M': []}\n",
    "for symbol in defensive_monthly.columns:\n",
    "    print(symbol)\n",
    "    curr = defensive_monthly[symbol][-1]\n",
    "    m1_ret = (curr - defensive_monthly[symbol].shift(1)[-1]) / defensive_monthly[symbol].shift(1)[-1]\n",
    "    momentum_data['1M'].append(m1_ret)\n",
    "    m3_ret = (curr - defensive_monthly[symbol].shift(3)[-1]) / defensive_monthly[symbol].shift(3)[-1]\n",
    "    momentum_data['3M'].append(m3_ret)\n",
    "    m6_ret = (curr - defensive_monthly[symbol].shift(6)[-1]) / defensive_monthly[symbol].shift(6)[-1]\n",
    "    momentum_data['6M'].append(m6_ret)\n",
    "    m12_ret = (curr - defensive_monthly[symbol].shift(12)[-1]) / defensive_monthly[symbol].shift(12)[-1]\n",
    "    momentum_data['12M'].append(m12_ret)"
   ]
  },
  {
   "cell_type": "code",
   "execution_count": 29,
   "id": "5450dfb3",
   "metadata": {},
   "outputs": [
    {
     "data": {
      "text/html": [
       "<div>\n",
       "<style scoped>\n",
       "    .dataframe tbody tr th:only-of-type {\n",
       "        vertical-align: middle;\n",
       "    }\n",
       "\n",
       "    .dataframe tbody tr th {\n",
       "        vertical-align: top;\n",
       "    }\n",
       "\n",
       "    .dataframe thead th {\n",
       "        text-align: right;\n",
       "    }\n",
       "</style>\n",
       "<table border=\"1\" class=\"dataframe\">\n",
       "  <thead>\n",
       "    <tr style=\"text-align: right;\">\n",
       "      <th></th>\n",
       "      <th>1M</th>\n",
       "      <th>3M</th>\n",
       "      <th>6M</th>\n",
       "      <th>12M</th>\n",
       "      <th>Score</th>\n",
       "    </tr>\n",
       "  </thead>\n",
       "  <tbody>\n",
       "    <tr>\n",
       "      <th>SHY</th>\n",
       "      <td>-0.000464</td>\n",
       "      <td>-0.000811</td>\n",
       "      <td>-0.000811</td>\n",
       "      <td>-0.003581</td>\n",
       "      <td>-0.014010</td>\n",
       "    </tr>\n",
       "    <tr>\n",
       "      <th>IEF</th>\n",
       "      <td>-0.004588</td>\n",
       "      <td>0.024213</td>\n",
       "      <td>0.012180</td>\n",
       "      <td>-0.035717</td>\n",
       "      <td>0.030446</td>\n",
       "    </tr>\n",
       "    <tr>\n",
       "      <th>LQD</th>\n",
       "      <td>-0.005220</td>\n",
       "      <td>0.027257</td>\n",
       "      <td>0.022908</td>\n",
       "      <td>-0.002212</td>\n",
       "      <td>0.089988</td>\n",
       "    </tr>\n",
       "  </tbody>\n",
       "</table>\n",
       "</div>"
      ],
      "text/plain": [
       "           1M        3M        6M       12M     Score\n",
       "SHY -0.000464 -0.000811 -0.000811 -0.003581 -0.014010\n",
       "IEF -0.004588  0.024213  0.012180 -0.035717  0.030446\n",
       "LQD -0.005220  0.027257  0.022908 -0.002212  0.089988"
      ]
     },
     "execution_count": 29,
     "metadata": {},
     "output_type": "execute_result"
    }
   ],
   "source": [
    "defensive_momentum = pd.DataFrame(momentum_data, index=defensive)\n",
    "defensive_momentum['Score'] = 12 * defensive_momentum['1M'] + 4 * defensive_momentum['3M'] + 2 * defensive_momentum['6M'] + 1 * defensive_momentum['12M']\n",
    "defensive_momentum"
   ]
  },
  {
   "cell_type": "code",
   "execution_count": null,
   "id": "ce35c6ee",
   "metadata": {},
   "outputs": [],
   "source": []
  },
  {
   "cell_type": "code",
   "execution_count": null,
   "id": "d016547e",
   "metadata": {},
   "outputs": [],
   "source": []
  }
 ],
 "metadata": {
  "kernelspec": {
   "display_name": "Python 3",
   "language": "python",
   "name": "python3"
  },
  "language_info": {
   "codemirror_mode": {
    "name": "ipython",
    "version": 3
   },
   "file_extension": ".py",
   "mimetype": "text/x-python",
   "name": "python",
   "nbconvert_exporter": "python",
   "pygments_lexer": "ipython3",
   "version": "3.8.10"
  },
  "toc": {
   "base_numbering": 1,
   "nav_menu": {},
   "number_sections": false,
   "sideBar": true,
   "skip_h1_title": true,
   "title_cell": "Table of Contents",
   "title_sidebar": "Contents",
   "toc_cell": false,
   "toc_position": {},
   "toc_section_display": true,
   "toc_window_display": false
  },
  "varInspector": {
   "cols": {
    "lenName": 16,
    "lenType": 16,
    "lenVar": 40
   },
   "kernels_config": {
    "python": {
     "delete_cmd_postfix": "",
     "delete_cmd_prefix": "del ",
     "library": "var_list.py",
     "varRefreshCmd": "print(var_dic_list())"
    },
    "r": {
     "delete_cmd_postfix": ") ",
     "delete_cmd_prefix": "rm(",
     "library": "var_list.r",
     "varRefreshCmd": "cat(var_dic_list()) "
    }
   },
   "types_to_exclude": [
    "module",
    "function",
    "builtin_function_or_method",
    "instance",
    "_Feature"
   ],
   "window_display": false
  }
 },
 "nbformat": 4,
 "nbformat_minor": 5
}
