{
 "cells": [
  {
   "cell_type": "markdown",
   "id": "283ca140",
   "metadata": {},
   "source": [
    "# Vigilant Asset Allocation (VAA)"
   ]
  },
  {
   "cell_type": "markdown",
   "id": "10cb66c1",
   "metadata": {},
   "source": [
    "Vigilant Asset Allocation (VAA) is introduced by Wouter J. Keller and Jan Willem Keuning in research paper \"Breadth Momentum and Vigilant Asset Allocation (VAA): Winning More by Losing Less\" (https://papers.ssrn.com/sol3/papers.cfm?abstract_id=3002624)\n",
    "\n",
    "VAA strategy is an upgraded version of dual momentum with fast filter. \n",
    "\n",
    "1. We buy the strongest asset in terms of momentum in offensive assets.\n",
    "2. If the most recent return of any of the offensive assets is negative, we go to defensive asset.\n",
    "\n",
    "When it comes to computing returns' weights, it emphasizes the most recent 1 month return.\n",
    "\n",
    "recent_return = 12 * (recent 1M return) + 4 * (recent 4M return) + 2 * (recent 6M return) + 1 * (recent 12M return)"
   ]
  },
  {
   "cell_type": "code",
   "execution_count": 1,
   "id": "437fe661",
   "metadata": {},
   "outputs": [],
   "source": [
    "import pandas as pd\n",
    "import src.fmp as fmp\n",
    "import datetime as dt"
   ]
  },
  {
   "cell_type": "markdown",
   "id": "adf9a06c",
   "metadata": {},
   "source": [
    "## Portfolio Assets"
   ]
  },
  {
   "cell_type": "code",
   "execution_count": 2,
   "id": "a03f3531",
   "metadata": {},
   "outputs": [],
   "source": [
    "offensive = ['SPY', 'VEA', 'VWO', 'AGG']\n",
    "defensive = ['SHY', 'IEF', 'LQD']"
   ]
  },
  {
   "cell_type": "markdown",
   "id": "85722e23",
   "metadata": {},
   "source": [
    "## Calculate monthly prices of offensive assets"
   ]
  },
  {
   "cell_type": "code",
   "execution_count": 3,
   "id": "26ccc033",
   "metadata": {},
   "outputs": [],
   "source": [
    "offensive_monthly = pd.DataFrame()\n",
    "\n",
    "for symbol in offensive:\n",
    "    offensive_monthly[symbol] = fmp.get_monthly_prices(symbol)[symbol]"
   ]
  },
  {
   "cell_type": "markdown",
   "id": "0813d715",
   "metadata": {},
   "source": [
    "## Offensive assets momentum"
   ]
  },
  {
   "cell_type": "code",
   "execution_count": 4,
   "id": "3f5ac284",
   "metadata": {},
   "outputs": [
    {
     "name": "stdout",
     "output_type": "stream",
     "text": [
      "SPY\n",
      "VEA\n",
      "VWO\n",
      "AGG\n"
     ]
    }
   ],
   "source": [
    "momentum_data = {'1M': [], '3M': [], '6M': [], '12M': []}\n",
    "for symbol in offensive_monthly.columns:\n",
    "    print(symbol)\n",
    "    curr = offensive_monthly[symbol][-1]\n",
    "    m1_ret = (curr - offensive_monthly[symbol].shift(1)[-1]) / offensive_monthly[symbol].shift(1)[-1]\n",
    "    momentum_data['1M'].append(m1_ret)\n",
    "    m3_ret = (curr - offensive_monthly[symbol].shift(3)[-1]) / offensive_monthly[symbol].shift(3)[-1]\n",
    "    momentum_data['3M'].append(m3_ret)\n",
    "    m6_ret = (curr - offensive_monthly[symbol].shift(6)[-1]) / offensive_monthly[symbol].shift(6)[-1]\n",
    "    momentum_data['6M'].append(m6_ret)\n",
    "    m12_ret = (curr - offensive_monthly[symbol].shift(12)[-1]) / offensive_monthly[symbol].shift(12)[-1]\n",
    "    momentum_data['12M'].append(m12_ret)"
   ]
  },
  {
   "cell_type": "code",
   "execution_count": 5,
   "id": "379b9296",
   "metadata": {},
   "outputs": [
    {
     "data": {
      "text/html": [
       "<div>\n",
       "<style scoped>\n",
       "    .dataframe tbody tr th:only-of-type {\n",
       "        vertical-align: middle;\n",
       "    }\n",
       "\n",
       "    .dataframe tbody tr th {\n",
       "        vertical-align: top;\n",
       "    }\n",
       "\n",
       "    .dataframe thead th {\n",
       "        text-align: right;\n",
       "    }\n",
       "</style>\n",
       "<table border=\"1\" class=\"dataframe\">\n",
       "  <thead>\n",
       "    <tr style=\"text-align: right;\">\n",
       "      <th></th>\n",
       "      <th>1M</th>\n",
       "      <th>3M</th>\n",
       "      <th>6M</th>\n",
       "      <th>12M</th>\n",
       "      <th>Score</th>\n",
       "    </tr>\n",
       "  </thead>\n",
       "  <tbody>\n",
       "    <tr>\n",
       "      <th>SPY</th>\n",
       "      <td>0.029760</td>\n",
       "      <td>0.075040</td>\n",
       "      <td>0.187191</td>\n",
       "      <td>0.292720</td>\n",
       "      <td>1.324382</td>\n",
       "    </tr>\n",
       "    <tr>\n",
       "      <th>VEA</th>\n",
       "      <td>0.013132</td>\n",
       "      <td>0.000763</td>\n",
       "      <td>0.092689</td>\n",
       "      <td>0.252926</td>\n",
       "      <td>0.598946</td>\n",
       "    </tr>\n",
       "    <tr>\n",
       "      <th>VWO</th>\n",
       "      <td>0.021914</td>\n",
       "      <td>-0.030624</td>\n",
       "      <td>-0.004953</td>\n",
       "      <td>0.181942</td>\n",
       "      <td>0.312503</td>\n",
       "    </tr>\n",
       "    <tr>\n",
       "      <th>AGG</th>\n",
       "      <td>-0.003435</td>\n",
       "      <td>0.013182</td>\n",
       "      <td>0.006242</td>\n",
       "      <td>-0.019515</td>\n",
       "      <td>0.004482</td>\n",
       "    </tr>\n",
       "  </tbody>\n",
       "</table>\n",
       "</div>"
      ],
      "text/plain": [
       "           1M        3M        6M       12M     Score\n",
       "SPY  0.029760  0.075040  0.187191  0.292720  1.324382\n",
       "VEA  0.013132  0.000763  0.092689  0.252926  0.598946\n",
       "VWO  0.021914 -0.030624 -0.004953  0.181942  0.312503\n",
       "AGG -0.003435  0.013182  0.006242 -0.019515  0.004482"
      ]
     },
     "execution_count": 5,
     "metadata": {},
     "output_type": "execute_result"
    }
   ],
   "source": [
    "offensive_momentum = pd.DataFrame(momentum_data, index=offensive)\n",
    "offensive_momentum['Score'] = 12 * offensive_momentum['1M'] + 4 * offensive_momentum['3M'] + 2 * offensive_momentum['6M'] + 1 * offensive_momentum['12M']"
   ]
  },
  {
   "cell_type": "markdown",
   "id": "d25ba1e3",
   "metadata": {},
   "source": [
    "## Defensive Assets Momentum"
   ]
  },
  {
   "cell_type": "code",
   "execution_count": 6,
   "id": "589a8f3d",
   "metadata": {},
   "outputs": [],
   "source": [
    "defensive_monthly = pd.DataFrame()\n",
    "\n",
    "for symbol in defensive:\n",
    "    defensive_monthly[symbol] = fmp.get_monthly_prices(symbol)[symbol]"
   ]
  },
  {
   "cell_type": "code",
   "execution_count": 7,
   "id": "302d231d",
   "metadata": {},
   "outputs": [
    {
     "name": "stdout",
     "output_type": "stream",
     "text": [
      "SHY\n",
      "IEF\n",
      "LQD\n"
     ]
    }
   ],
   "source": [
    "momentum_data = {'1M': [], '3M': [], '6M': [], '12M': []}\n",
    "for symbol in defensive_monthly.columns:\n",
    "    print(symbol)\n",
    "    curr = defensive_monthly[symbol][-1]\n",
    "    m1_ret = (curr - defensive_monthly[symbol].shift(1)[-1]) / defensive_monthly[symbol].shift(1)[-1]\n",
    "    momentum_data['1M'].append(m1_ret)\n",
    "    m3_ret = (curr - defensive_monthly[symbol].shift(3)[-1]) / defensive_monthly[symbol].shift(3)[-1]\n",
    "    momentum_data['3M'].append(m3_ret)\n",
    "    m6_ret = (curr - defensive_monthly[symbol].shift(6)[-1]) / defensive_monthly[symbol].shift(6)[-1]\n",
    "    momentum_data['6M'].append(m6_ret)\n",
    "    m12_ret = (curr - defensive_monthly[symbol].shift(12)[-1]) / defensive_monthly[symbol].shift(12)[-1]\n",
    "    momentum_data['12M'].append(m12_ret)"
   ]
  },
  {
   "cell_type": "code",
   "execution_count": 8,
   "id": "42a3c78f",
   "metadata": {},
   "outputs": [
    {
     "data": {
      "text/html": [
       "<div>\n",
       "<style scoped>\n",
       "    .dataframe tbody tr th:only-of-type {\n",
       "        vertical-align: middle;\n",
       "    }\n",
       "\n",
       "    .dataframe tbody tr th {\n",
       "        vertical-align: top;\n",
       "    }\n",
       "\n",
       "    .dataframe thead th {\n",
       "        text-align: right;\n",
       "    }\n",
       "</style>\n",
       "<table border=\"1\" class=\"dataframe\">\n",
       "  <thead>\n",
       "    <tr style=\"text-align: right;\">\n",
       "      <th></th>\n",
       "      <th>1M</th>\n",
       "      <th>3M</th>\n",
       "      <th>6M</th>\n",
       "      <th>12M</th>\n",
       "      <th>Score</th>\n",
       "    </tr>\n",
       "  </thead>\n",
       "  <tbody>\n",
       "    <tr>\n",
       "      <th>SHY</th>\n",
       "      <td>-0.000464</td>\n",
       "      <td>-0.000811</td>\n",
       "      <td>-0.000811</td>\n",
       "      <td>-0.003581</td>\n",
       "      <td>-0.014010</td>\n",
       "    </tr>\n",
       "    <tr>\n",
       "      <th>IEF</th>\n",
       "      <td>-0.004588</td>\n",
       "      <td>0.024213</td>\n",
       "      <td>0.012180</td>\n",
       "      <td>-0.035717</td>\n",
       "      <td>0.030446</td>\n",
       "    </tr>\n",
       "    <tr>\n",
       "      <th>LQD</th>\n",
       "      <td>-0.005220</td>\n",
       "      <td>0.027257</td>\n",
       "      <td>0.022908</td>\n",
       "      <td>-0.002212</td>\n",
       "      <td>0.089988</td>\n",
       "    </tr>\n",
       "  </tbody>\n",
       "</table>\n",
       "</div>"
      ],
      "text/plain": [
       "           1M        3M        6M       12M     Score\n",
       "SHY -0.000464 -0.000811 -0.000811 -0.003581 -0.014010\n",
       "IEF -0.004588  0.024213  0.012180 -0.035717  0.030446\n",
       "LQD -0.005220  0.027257  0.022908 -0.002212  0.089988"
      ]
     },
     "execution_count": 8,
     "metadata": {},
     "output_type": "execute_result"
    }
   ],
   "source": [
    "defensive_momentum = pd.DataFrame(momentum_data, index=defensive)\n",
    "defensive_momentum['Score'] = 12 * defensive_momentum['1M'] + 4 * defensive_momentum['3M'] + 2 * defensive_momentum['6M'] + 1 * defensive_momentum['12M']"
   ]
  },
  {
   "cell_type": "markdown",
   "id": "91b5a1d2",
   "metadata": {},
   "source": [
    "## Investment decision based on strategy algorithm"
   ]
  },
  {
   "cell_type": "code",
   "execution_count": 9,
   "id": "1fb380eb",
   "metadata": {},
   "outputs": [
    {
     "data": {
      "text/html": [
       "<div>\n",
       "<style scoped>\n",
       "    .dataframe tbody tr th:only-of-type {\n",
       "        vertical-align: middle;\n",
       "    }\n",
       "\n",
       "    .dataframe tbody tr th {\n",
       "        vertical-align: top;\n",
       "    }\n",
       "\n",
       "    .dataframe thead th {\n",
       "        text-align: right;\n",
       "    }\n",
       "</style>\n",
       "<table border=\"1\" class=\"dataframe\">\n",
       "  <thead>\n",
       "    <tr style=\"text-align: right;\">\n",
       "      <th></th>\n",
       "      <th>1M</th>\n",
       "      <th>3M</th>\n",
       "      <th>6M</th>\n",
       "      <th>12M</th>\n",
       "      <th>Score</th>\n",
       "    </tr>\n",
       "  </thead>\n",
       "  <tbody>\n",
       "    <tr>\n",
       "      <th>SPY</th>\n",
       "      <td>0.029760</td>\n",
       "      <td>0.075040</td>\n",
       "      <td>0.187191</td>\n",
       "      <td>0.292720</td>\n",
       "      <td>1.324382</td>\n",
       "    </tr>\n",
       "    <tr>\n",
       "      <th>VEA</th>\n",
       "      <td>0.013132</td>\n",
       "      <td>0.000763</td>\n",
       "      <td>0.092689</td>\n",
       "      <td>0.252926</td>\n",
       "      <td>0.598946</td>\n",
       "    </tr>\n",
       "    <tr>\n",
       "      <th>VWO</th>\n",
       "      <td>0.021914</td>\n",
       "      <td>-0.030624</td>\n",
       "      <td>-0.004953</td>\n",
       "      <td>0.181942</td>\n",
       "      <td>0.312503</td>\n",
       "    </tr>\n",
       "    <tr>\n",
       "      <th>AGG</th>\n",
       "      <td>-0.003435</td>\n",
       "      <td>0.013182</td>\n",
       "      <td>0.006242</td>\n",
       "      <td>-0.019515</td>\n",
       "      <td>0.004482</td>\n",
       "    </tr>\n",
       "  </tbody>\n",
       "</table>\n",
       "</div>"
      ],
      "text/plain": [
       "           1M        3M        6M       12M     Score\n",
       "SPY  0.029760  0.075040  0.187191  0.292720  1.324382\n",
       "VEA  0.013132  0.000763  0.092689  0.252926  0.598946\n",
       "VWO  0.021914 -0.030624 -0.004953  0.181942  0.312503\n",
       "AGG -0.003435  0.013182  0.006242 -0.019515  0.004482"
      ]
     },
     "execution_count": 9,
     "metadata": {},
     "output_type": "execute_result"
    }
   ],
   "source": [
    "offensive_momentum"
   ]
  },
  {
   "cell_type": "code",
   "execution_count": 10,
   "id": "162de0bf",
   "metadata": {},
   "outputs": [
    {
     "data": {
      "text/html": [
       "<div>\n",
       "<style scoped>\n",
       "    .dataframe tbody tr th:only-of-type {\n",
       "        vertical-align: middle;\n",
       "    }\n",
       "\n",
       "    .dataframe tbody tr th {\n",
       "        vertical-align: top;\n",
       "    }\n",
       "\n",
       "    .dataframe thead th {\n",
       "        text-align: right;\n",
       "    }\n",
       "</style>\n",
       "<table border=\"1\" class=\"dataframe\">\n",
       "  <thead>\n",
       "    <tr style=\"text-align: right;\">\n",
       "      <th></th>\n",
       "      <th>1M</th>\n",
       "      <th>3M</th>\n",
       "      <th>6M</th>\n",
       "      <th>12M</th>\n",
       "      <th>Score</th>\n",
       "    </tr>\n",
       "  </thead>\n",
       "  <tbody>\n",
       "    <tr>\n",
       "      <th>SHY</th>\n",
       "      <td>-0.000464</td>\n",
       "      <td>-0.000811</td>\n",
       "      <td>-0.000811</td>\n",
       "      <td>-0.003581</td>\n",
       "      <td>-0.014010</td>\n",
       "    </tr>\n",
       "    <tr>\n",
       "      <th>IEF</th>\n",
       "      <td>-0.004588</td>\n",
       "      <td>0.024213</td>\n",
       "      <td>0.012180</td>\n",
       "      <td>-0.035717</td>\n",
       "      <td>0.030446</td>\n",
       "    </tr>\n",
       "    <tr>\n",
       "      <th>LQD</th>\n",
       "      <td>-0.005220</td>\n",
       "      <td>0.027257</td>\n",
       "      <td>0.022908</td>\n",
       "      <td>-0.002212</td>\n",
       "      <td>0.089988</td>\n",
       "    </tr>\n",
       "  </tbody>\n",
       "</table>\n",
       "</div>"
      ],
      "text/plain": [
       "           1M        3M        6M       12M     Score\n",
       "SHY -0.000464 -0.000811 -0.000811 -0.003581 -0.014010\n",
       "IEF -0.004588  0.024213  0.012180 -0.035717  0.030446\n",
       "LQD -0.005220  0.027257  0.022908 -0.002212  0.089988"
      ]
     },
     "execution_count": 10,
     "metadata": {},
     "output_type": "execute_result"
    }
   ],
   "source": [
    "defensive_momentum"
   ]
  },
  {
   "cell_type": "code",
   "execution_count": 20,
   "id": "0efea29c",
   "metadata": {},
   "outputs": [
    {
     "name": "stdout",
     "output_type": "stream",
     "text": [
      "invest in SPY\n"
     ]
    }
   ],
   "source": [
    "if (offensive_momentum['Score'] < 0).any():\n",
    "    if (defensive_momentum['Score'] < 0).any():\n",
    "        print('hold cash')\n",
    "    else:\n",
    "        first = defensive_momentum.sort_values(by='Score', ascending=False).index[0]\n",
    "        print('invest in ' + first)\n",
    "else:\n",
    "    first = offensive_momentum.sort_values(by='Score', ascending=False).index[0]\n",
    "    print('invest in ' + first)"
   ]
  }
 ],
 "metadata": {
  "kernelspec": {
   "display_name": "Python 3",
   "language": "python",
   "name": "python3"
  },
  "language_info": {
   "codemirror_mode": {
    "name": "ipython",
    "version": 3
   },
   "file_extension": ".py",
   "mimetype": "text/x-python",
   "name": "python",
   "nbconvert_exporter": "python",
   "pygments_lexer": "ipython3",
   "version": "3.8.10"
  },
  "toc": {
   "base_numbering": 1,
   "nav_menu": {},
   "number_sections": false,
   "sideBar": true,
   "skip_h1_title": true,
   "title_cell": "Table of Contents",
   "title_sidebar": "Contents",
   "toc_cell": false,
   "toc_position": {},
   "toc_section_display": true,
   "toc_window_display": false
  },
  "varInspector": {
   "cols": {
    "lenName": 16,
    "lenType": 16,
    "lenVar": 40
   },
   "kernels_config": {
    "python": {
     "delete_cmd_postfix": "",
     "delete_cmd_prefix": "del ",
     "library": "var_list.py",
     "varRefreshCmd": "print(var_dic_list())"
    },
    "r": {
     "delete_cmd_postfix": ") ",
     "delete_cmd_prefix": "rm(",
     "library": "var_list.r",
     "varRefreshCmd": "cat(var_dic_list()) "
    }
   },
   "types_to_exclude": [
    "module",
    "function",
    "builtin_function_or_method",
    "instance",
    "_Feature"
   ],
   "window_display": false
  }
 },
 "nbformat": 4,
 "nbformat_minor": 5
}
