{
 "cells": [
  {
   "cell_type": "markdown",
   "id": "9e532534",
   "metadata": {},
   "source": [
    "# Vigilant Asset Allocation (VAA)"
   ]
  },
  {
   "cell_type": "markdown",
   "id": "8514c4b3",
   "metadata": {},
   "source": [
    "Vigilant Asset Allocation (VAA) is introduced by Wouter J. Keller and Jan Willem Keuning in research paper \"Breadth Momentum and Vigilant Asset Allocation (VAA): Winning More by Losing Less\" (https://papers.ssrn.com/sol3/papers.cfm?abstract_id=3002624)\n",
    "\n",
    "VAA strategy is an upgraded version of dual momentum with fast filter. \n",
    "\n",
    "1. We buy the strongest asset in terms of momentum in offensive assets.\n",
    "2. If the most recent return of any of the offensive assets is negative, we go to defensive asset.\n",
    "\n",
    "When it comes to computing returns' weights, it emphasizes the most recent 1 month return.\n",
    "\n",
    "recent_return = 12 * (recent 1M return) + 4 * (recent 4M return) + 2 * (recent 6M return) + 1 * (recent 12M return)"
   ]
  },
  {
   "cell_type": "code",
   "execution_count": null,
   "id": "34709dab",
   "metadata": {},
   "outputs": [],
   "source": [
    "import numpy as np\n",
    "import pandas as pd\n",
    "import src.fmp as fmp\n",
    "import datetime as dt\n",
    "import matplotlib.pyplot as plt"
   ]
  },
  {
   "cell_type": "markdown",
   "id": "8cc28e61",
   "metadata": {},
   "source": [
    "## Portfolio Assets"
   ]
  },
  {
   "cell_type": "code",
   "execution_count": null,
   "id": "a72e884d",
   "metadata": {},
   "outputs": [],
   "source": [
    "offensive = ['SPY', 'VEA', 'VWO', 'AGG']\n",
    "defensive = ['SHY', 'IEF', 'LQD']"
   ]
  },
  {
   "cell_type": "markdown",
   "id": "a36dc9e7",
   "metadata": {},
   "source": [
    "## Calculate monthly prices of offensive assets"
   ]
  },
  {
   "cell_type": "code",
   "execution_count": null,
   "id": "232ae19b",
   "metadata": {},
   "outputs": [],
   "source": [
    "offensive_monthly = pd.DataFrame()\n",
    "\n",
    "for symbol in offensive:\n",
    "    offensive_monthly[symbol] = fmp.get_monthly_prices(symbol)[symbol]\n",
    "offensive_monthly.dropna(inplace=True)\n",
    "offensive_monthly.tail(20)"
   ]
  },
  {
   "cell_type": "markdown",
   "id": "22aed249",
   "metadata": {},
   "source": [
    "## Offensive assets momentum"
   ]
  },
  {
   "cell_type": "code",
   "execution_count": null,
   "id": "16d003f7",
   "metadata": {},
   "outputs": [],
   "source": [
    "momentum_data = {'1M': [], '3M': [], '6M': [], '12M': []}\n",
    "for symbol in offensive_monthly.columns:\n",
    "    print(symbol)\n",
    "    curr = offensive_monthly[symbol][-1]\n",
    "    print(curr)\n",
    "    print(offensive_monthly[symbol].shift(1)[-1])\n",
    "    m1_ret = (curr - offensive_monthly[symbol].shift(1)[-1]) / offensive_monthly[symbol].shift(1)[-1]\n",
    "    momentum_data['1M'].append(m1_ret)\n",
    "    print(m1_ret)\n",
    "    m3_ret = (curr - offensive_monthly[symbol].shift(3)[-1]) / offensive_monthly[symbol].shift(3)[-1]\n",
    "    momentum_data['3M'].append(m3_ret)\n",
    "    m6_ret = (curr - offensive_monthly[symbol].shift(6)[-1]) / offensive_monthly[symbol].shift(6)[-1]\n",
    "    momentum_data['6M'].append(m6_ret)\n",
    "    m12_ret = (curr - offensive_monthly[symbol].shift(12)[-1]) / offensive_monthly[symbol].shift(12)[-1]\n",
    "    momentum_data['12M'].append(m12_ret)"
   ]
  },
  {
   "cell_type": "code",
   "execution_count": null,
   "id": "fde03f33",
   "metadata": {},
   "outputs": [],
   "source": [
    "offensive_momentum = pd.DataFrame(momentum_data, index=offensive)\n",
    "offensive_momentum['Score'] = 12 * offensive_momentum['1M'] + 4 * offensive_momentum['3M'] + 2 * offensive_momentum['6M'] + 1 * offensive_momentum['12M']\n",
    "offensive_momentum"
   ]
  },
  {
   "cell_type": "markdown",
   "id": "66f3cb38",
   "metadata": {},
   "source": [
    "## Defensive Assets Momentum"
   ]
  },
  {
   "cell_type": "code",
   "execution_count": null,
   "id": "fb62fa5d",
   "metadata": {},
   "outputs": [],
   "source": [
    "defensive_monthly = pd.DataFrame()\n",
    "\n",
    "for symbol in defensive:\n",
    "    defensive_monthly[symbol] = fmp.get_monthly_prices(symbol)[symbol]\n",
    "defensive_monthly"
   ]
  },
  {
   "cell_type": "code",
   "execution_count": null,
   "id": "f98b61be",
   "metadata": {},
   "outputs": [],
   "source": [
    "momentum_data = {'1M': [], '3M': [], '6M': [], '12M': []}\n",
    "for symbol in defensive_monthly.columns:\n",
    "    print(symbol)\n",
    "    curr = defensive_monthly[symbol][-1]\n",
    "    m1_ret = (curr - defensive_monthly[symbol].shift(1)[-1]) / defensive_monthly[symbol].shift(1)[-1]\n",
    "    momentum_data['1M'].append(m1_ret)\n",
    "    m3_ret = (curr - defensive_monthly[symbol].shift(3)[-1]) / defensive_monthly[symbol].shift(3)[-1]\n",
    "    momentum_data['3M'].append(m3_ret)\n",
    "    m6_ret = (curr - defensive_monthly[symbol].shift(6)[-1]) / defensive_monthly[symbol].shift(6)[-1]\n",
    "    momentum_data['6M'].append(m6_ret)\n",
    "    m12_ret = (curr - defensive_monthly[symbol].shift(12)[-1]) / defensive_monthly[symbol].shift(12)[-1]\n",
    "    momentum_data['12M'].append(m12_ret)"
   ]
  },
  {
   "cell_type": "code",
   "execution_count": null,
   "id": "9e2d8af4",
   "metadata": {},
   "outputs": [],
   "source": [
    "defensive_momentum = pd.DataFrame(momentum_data, index=defensive)\n",
    "defensive_momentum['Score'] = 12 * defensive_momentum['1M'] + 4 * defensive_momentum['3M'] + 2 * defensive_momentum['6M'] + 1 * defensive_momentum['12M']"
   ]
  },
  {
   "cell_type": "markdown",
   "id": "95530854",
   "metadata": {},
   "source": [
    "## Backtesting"
   ]
  },
  {
   "cell_type": "markdown",
   "id": "9c81fbfd",
   "metadata": {},
   "source": [
    "### VAA (Original Version: Offensive + Defensive)"
   ]
  },
  {
   "cell_type": "markdown",
   "id": "db57f23e",
   "metadata": {},
   "source": [
    "#### Trading Logics\n",
    "\n",
    "1. Compute vaa_momentum_scores using the function vaa_returns below.\n",
    "2. If the momentum scores of all offensive assets are positive, we invest in one of the offensive assets which has the largest momentum score.\n",
    "3. If any of momentum scores of offensive assets is negative, we don't invest in an offensive asset, and look at defensive assets.\n",
    "4. If the momentum scores of all defensive assets are positive, we invest in one of the defensive assets which has the largest momentum score.\n",
    "5. If any of momentum scores of defensive assets is negative, we don't inveset in a defensive asset, and hold cash for that month."
   ]
  },
  {
   "cell_type": "code",
   "execution_count": null,
   "id": "afd870f0",
   "metadata": {},
   "outputs": [],
   "source": [
    "def vaa_returns(x):\n",
    "    m1 = x / x.shift(1) - 1\n",
    "    m3 = x / x.shift(3) - 1\n",
    "    m6 = x / x.shift(6) - 1\n",
    "    m12 = x / x.shift(12) - 1\n",
    "    return (12 * m1 + 4 * m3 + 2 * m6 + 1 * m12) / 4"
   ]
  },
  {
   "cell_type": "code",
   "execution_count": null,
   "id": "fe3c9803",
   "metadata": {},
   "outputs": [],
   "source": [
    "vaa_assets = ['SPY', 'VEA', 'VWO', 'AGG', 'SHY', 'IEF', 'LQD']\n",
    "vaa_monthly_prices = pd.DataFrame()\n",
    "\n",
    "for asset in vaa_assets:\n",
    "    vaa_monthly_prices[asset] = fmp.get_monthly_prices(asset)[asset]\n",
    "vaa_monthly_prices.head(10)"
   ]
  },
  {
   "cell_type": "code",
   "execution_count": null,
   "id": "02e76d13",
   "metadata": {},
   "outputs": [],
   "source": [
    "vaa_monthly_mom = vaa_monthly_prices.copy()\n",
    "vaa_monthly_mom = vaa_monthly_mom.apply(vaa_returns, axis=0)\n",
    "vaa_monthly_mom.dropna(inplace=True)"
   ]
  },
  {
   "cell_type": "code",
   "execution_count": null,
   "id": "3971cfdb",
   "metadata": {},
   "outputs": [],
   "source": [
    "for date in vaa_monthly_mom.index:\n",
    "    if (vaa_monthly_mom.loc[date,['SPY', 'VEA', 'VWO', 'AGG']] < 0).any():\n",
    "        # check defensive assets\n",
    "        vaa_monthly_mom.loc[date, 'SPY'] = 0\n",
    "        vaa_monthly_mom.loc[date, 'VEA'] = 0\n",
    "        vaa_monthly_mom.loc[date, 'VWO'] = 0\n",
    "        vaa_monthly_mom.loc[date, 'AGG'] = 0\n",
    "        if (vaa_monthly_mom.loc[date,['SHY', 'IEF', 'LQD']] < 0).any():\n",
    "            # hold cash\n",
    "            vaa_monthly_mom.loc[date, 'SHY'] = 0\n",
    "            vaa_monthly_mom.loc[date, 'IEF'] = 0\n",
    "            vaa_monthly_mom.loc[date, 'LQD'] = 0\n",
    "    else:\n",
    "        # invest offensive asset\n",
    "        vaa_monthly_mom.loc[date, 'SHY'] = 0\n",
    "        vaa_monthly_mom.loc[date, 'IEF'] = 0\n",
    "        vaa_monthly_mom.loc[date, 'LQD'] = 0\n",
    "vaa_monthly_mom"
   ]
  },
  {
   "cell_type": "code",
   "execution_count": null,
   "id": "f638bc15",
   "metadata": {},
   "outputs": [],
   "source": [
    "mom_rank = vaa_monthly_mom.rank(axis=1, ascending=False)\n",
    "for symbol in mom_rank.columns:\n",
    "    mom_rank[symbol] = np.where(mom_rank[symbol] == 1, 1, 0)\n",
    "mom_rank"
   ]
  },
  {
   "cell_type": "code",
   "execution_count": null,
   "id": "327acb1a",
   "metadata": {},
   "outputs": [],
   "source": [
    "# we have to shift the returns upward by one to align with momentum signal above.\n",
    "vaa_monthly_rets = vaa_monthly_prices.pct_change()\n",
    "vaa_monthly_rets.dropna(inplace=True)\n",
    "vaa_monthly_rets = vaa_monthly_rets[mom_rank.index[0]:].shift(-1)\n",
    "vaa_monthly_rets"
   ]
  },
  {
   "cell_type": "code",
   "execution_count": null,
   "id": "e3fe03de",
   "metadata": {},
   "outputs": [],
   "source": [
    "vaa_port = np.multiply(mom_rank, vaa_monthly_rets)\n",
    "vaa_port_returns = vaa_port.sum(axis=1)\n",
    "vaa_port_cum_returns = np.exp(np.log1p(vaa_port_returns).cumsum())[:-1]"
   ]
  },
  {
   "cell_type": "markdown",
   "id": "3a2280cc",
   "metadata": {},
   "source": [
    "### VAA (Modified: Relative Momentum Offensive Only)"
   ]
  },
  {
   "cell_type": "markdown",
   "id": "b72d3705",
   "metadata": {},
   "source": [
    "#### Trading Logics\n",
    "\n",
    "1. In this case, we only consider offensive assets.\n",
    "2. Once we calculate momentum scores of offensive assets, and pick the one which has the largest score.\n",
    "3. We are always invested in the market as we have to pick one offensive asset every month."
   ]
  },
  {
   "cell_type": "code",
   "execution_count": null,
   "id": "4a19cbf7",
   "metadata": {},
   "outputs": [],
   "source": [
    "offensive_monthly_mom = offensive_monthly.copy()\n",
    "offensive_monthly_mom = offensive_monthly_mom.apply(vaa_returns, axis=0)\n",
    "offensive_monthly_mom.dropna(inplace=True)\n",
    "\n",
    "# print(offensive_monthly_mom)\n",
    "\n",
    "off_mom_rank = offensive_monthly_mom.rank(axis=1, ascending=False)\n",
    "for symbol in off_mom_rank.columns:\n",
    "    off_mom_rank[symbol] = np.where(off_mom_rank[symbol] < 2, 1, 0)\n",
    "    \n",
    "print(off_mom_rank)\n",
    "    \n",
    "offensive_monthly_rets = offensive_monthly.pct_change()\n",
    "offensive_monthly_rets.dropna(inplace=True)\n",
    "offensive_monthly_rets = offensive_monthly_rets[off_mom_rank.index[0]:].shift(-1)\n",
    "\n",
    "offensive_port = np.multiply(off_mom_rank, offensive_monthly_rets)\n",
    "offensive_port_returns = offensive_port.sum(axis=1)\n",
    "offensive_port_cum_returns = np.exp(np.log1p(offensive_port_returns).cumsum())[:-1]\n",
    "offensive_port_cum_returns.tail()"
   ]
  },
  {
   "cell_type": "markdown",
   "id": "fa73580b",
   "metadata": {},
   "source": [
    "### VAA (Modified: Dual momentum Offensive Only)"
   ]
  },
  {
   "cell_type": "markdown",
   "id": "00831b79",
   "metadata": {},
   "source": [
    "#### Trading Logics\n",
    "\n",
    "1. In this case, we also consider only offensive assets like the previous case.\n",
    "2. Once we calculate momentum scores of offensive assets, and we apply absolute momentum by checking the signs of momentum scores.\n",
    "3. If any of the momentum scores of offensive assets is negative, we don't invest in any offensive asset, and hold cash for that month."
   ]
  },
  {
   "cell_type": "code",
   "execution_count": null,
   "id": "0d6cbe2f",
   "metadata": {},
   "outputs": [],
   "source": [
    "dual_offensive_monthly_mom = offensive_monthly.copy()\n",
    "dual_offensive_monthly_mom = dual_offensive_monthly_mom.apply(vaa_returns, axis=0)\n",
    "dual_offensive_monthly_mom.dropna(inplace=True)\n",
    "\n",
    "print(dual_offensive_monthly_mom)\n",
    "\n",
    "for date in dual_offensive_monthly_mom.index:\n",
    "    if (dual_offensive_monthly_mom.loc[date] < 0).any():\n",
    "        # print(date, ' negative')\n",
    "        # check defensive assets\n",
    "        dual_offensive_monthly_mom.loc[date, 'SPY'] = 0\n",
    "        dual_offensive_monthly_mom.loc[date, 'VEA'] = 0\n",
    "        dual_offensive_monthly_mom.loc[date, 'VWO'] = 0\n",
    "        dual_offensive_monthly_mom.loc[date, 'AGG'] = 0\n",
    "\n",
    "print(dual_offensive_monthly_mom)\n",
    "\n",
    "dual_off_mom_rank = dual_offensive_monthly_mom.rank(axis=1, ascending=False)\n",
    "\n",
    "print(dual_off_mom_rank)\n",
    "for symbol in dual_off_mom_rank.columns:\n",
    "    dual_off_mom_rank[symbol] = np.where(dual_off_mom_rank[symbol] == 1, 1, 0)\n",
    "    \n",
    "dual_offensive_monthly_rets = offensive_monthly.pct_change()\n",
    "dual_offensive_monthly_rets.dropna(inplace=True)\n",
    "dual_offensive_monthly_rets = dual_offensive_monthly_rets[dual_off_mom_rank.index[0]:].shift(-1)\n",
    "\n",
    "dual_offensive_port = np.multiply(dual_off_mom_rank, dual_offensive_monthly_rets)\n",
    "dual_offensive_port_returns = dual_offensive_port.sum(axis=1)\n",
    "dual_offensive_port_cum_returns = np.exp(np.log1p(dual_offensive_port_returns).cumsum())[:-1]\n",
    "dual_offensive_port_cum_returns"
   ]
  },
  {
   "cell_type": "markdown",
   "id": "f76744a7",
   "metadata": {},
   "source": [
    "### 60/40 Benchmark"
   ]
  },
  {
   "cell_type": "code",
   "execution_count": null,
   "id": "db67bbe1",
   "metadata": {},
   "outputs": [],
   "source": [
    "assets = ['BND', 'SPY']\n",
    "\n",
    "sixtyForty = pd.DataFrame()\n",
    "\n",
    "for symbol in assets:\n",
    "    sixtyForty[symbol] = fmp.get_monthly_prices(symbol)[symbol]"
   ]
  },
  {
   "cell_type": "code",
   "execution_count": null,
   "id": "7d9fa1d2",
   "metadata": {},
   "outputs": [],
   "source": [
    "sixtyForty_returns = sixtyForty.pct_change()\n",
    "sixtyForty_returns = sixtyForty_returns[mom_rank.index[0]:].shift(-1)\n",
    "sixtyForty_weights = np.array([0.4, 0.6])\n",
    "sixtyForty_returns['port'] = sixtyForty_returns.dot(sixtyForty_weights)\n",
    "sixtyForty_returns.tail()"
   ]
  },
  {
   "cell_type": "code",
   "execution_count": null,
   "id": "603399e2",
   "metadata": {},
   "outputs": [],
   "source": [
    "sixtyForty_cum_returns = np.exp(np.log1p(sixtyForty_returns['port']).cumsum())[:-1]\n",
    "sixtyForty_cum_returns.tail()"
   ]
  },
  {
   "cell_type": "markdown",
   "id": "331994d9",
   "metadata": {},
   "source": [
    "### SPY (S&P 500)"
   ]
  },
  {
   "cell_type": "code",
   "execution_count": null,
   "id": "2a0af84a",
   "metadata": {},
   "outputs": [],
   "source": [
    "benchmark_prices = fmp.get_monthly_prices('SPY')\n",
    "benchmark_returns = benchmark_prices.pct_change()\n",
    "benchmark_returns = benchmark_returns[mom_rank.index[0]:].shift(-1)\n",
    "benchmark_cum_returns = np.exp(np.log1p(benchmark_returns).cumsum())[:-1]\n",
    "benchmark_cum_returns.tail()"
   ]
  },
  {
   "cell_type": "code",
   "execution_count": null,
   "id": "1a303e30",
   "metadata": {},
   "outputs": [],
   "source": [
    "combined_df = pd.DataFrame()\n",
    "combined_df['VAA/Original'] = vaa_port_cum_returns\n",
    "combined_df['VAA/Relative_Offensive'] = offensive_port_cum_returns\n",
    "combined_df['VAA/Dual_Offensive'] = dual_offensive_port_cum_returns\n",
    "combined_df['60/40'] = sixtyForty_cum_returns\n",
    "combined_df['SPY'] = benchmark_cum_returns\n",
    "combined_df.iloc[0] = 1\n",
    "combined_df.index = pd.to_datetime(combined_df.index)\n",
    "combined_df"
   ]
  },
  {
   "cell_type": "code",
   "execution_count": null,
   "id": "6cebc439",
   "metadata": {},
   "outputs": [],
   "source": [
    "stats_summary = pd.DataFrame(columns = ['Portfolio', 'CAGR (%)', 'MDD (%)', 'CAGR/MDD'])\n",
    "beginning_month = combined_df.index[0].year\n",
    "\n",
    "for col in combined_df.columns:\n",
    "    # compute CAGR\n",
    "    first_value = combined_df[col][0]\n",
    "    last_value = combined_df[col][-1]  \n",
    "    years = len(combined_df[col].index)/12    \n",
    "    cagr = (last_value/first_value)**(1/years) - 1\n",
    "    \n",
    "    # compute MDD\n",
    "    cumulative_returns = combined_df[col]\n",
    "    previous_peaks = cumulative_returns.cummax()\n",
    "    drawdown = (cumulative_returns - previous_peaks) / previous_peaks\n",
    "    portfolio_mdd = drawdown.min()\n",
    "    \n",
    "    # save CAGR and MDD for each portfolio    \n",
    "    stats_summary = stats_summary.append({'Portfolio': col,\n",
    "                                         'CAGR (%)': cagr * 100,\n",
    "                                         'MDD (%)': portfolio_mdd * 100,\n",
    "                                         'CAGR/MDD': abs(cagr / portfolio_mdd).round(2)}, ignore_index=True) "
   ]
  },
  {
   "cell_type": "code",
   "execution_count": null,
   "id": "46f27261",
   "metadata": {},
   "outputs": [],
   "source": [
    "stats_summary.set_index('Portfolio', inplace=True)\n",
    "stats_summary.sort_values('CAGR/MDD', ascending=False, inplace=True)\n",
    "stats_summary"
   ]
  },
  {
   "cell_type": "markdown",
   "id": "3941dc32",
   "metadata": {},
   "source": [
    "### Backtesting Performance Comparison (All Portfolios)"
   ]
  },
  {
   "cell_type": "code",
   "execution_count": null,
   "id": "9bc130dd",
   "metadata": {},
   "outputs": [],
   "source": [
    "plt.figure(figsize=(15,10))\n",
    "plt.plot(combined_df)\n",
    "plt.legend(combined_df.columns)\n",
    "plt.xlabel('Date')\n",
    "plt.ylabel('Returns')\n",
    "plt.title('Portfolio Performance Comparison')"
   ]
  },
  {
   "cell_type": "markdown",
   "id": "c62c452f",
   "metadata": {},
   "source": [
    "### Backtesting Performance Comparison (Original VAA, 60/40, SPY)"
   ]
  },
  {
   "cell_type": "code",
   "execution_count": null,
   "id": "226b75f5",
   "metadata": {},
   "outputs": [],
   "source": [
    "sub_df = combined_df[['VAA/Original', '60/40', 'SPY']]\n",
    "plt.figure(figsize=(15,10))\n",
    "plt.plot(sub_df)\n",
    "plt.legend(sub_df.columns)\n",
    "plt.xlabel('Date')\n",
    "plt.ylabel('Returns')\n",
    "plt.title('Portfolio Performance Comparison')"
   ]
  },
  {
   "cell_type": "markdown",
   "id": "f73ce664",
   "metadata": {},
   "source": [
    "## Investment decision based on strategy algorithm"
   ]
  },
  {
   "cell_type": "code",
   "execution_count": null,
   "id": "b6b1ca26",
   "metadata": {},
   "outputs": [],
   "source": [
    "offensive_momentum"
   ]
  },
  {
   "cell_type": "code",
   "execution_count": null,
   "id": "ce2463f8",
   "metadata": {},
   "outputs": [],
   "source": [
    "defensive_momentum"
   ]
  },
  {
   "cell_type": "code",
   "execution_count": null,
   "id": "86867891",
   "metadata": {},
   "outputs": [],
   "source": [
    "if (offensive_momentum['Score'] < 0).any():\n",
    "    if (defensive_momentum['Score'] < 0).any():\n",
    "        print('hold cash')\n",
    "    else:\n",
    "        first = defensive_momentum.sort_values(by='Score', ascending=False).index[0]\n",
    "        print('invest in ' + first)\n",
    "else:\n",
    "    first = offensive_momentum.sort_values(by='Score', ascending=False).index[0]\n",
    "    print('invest in ' + first)"
   ]
  },
  {
   "cell_type": "code",
   "execution_count": null,
   "id": "fd78679e",
   "metadata": {},
   "outputs": [],
   "source": []
  }
 ],
 "metadata": {
  "kernelspec": {
   "display_name": "Python 3",
   "language": "python",
   "name": "python3"
  },
  "language_info": {
   "codemirror_mode": {
    "name": "ipython",
    "version": 3
   },
   "file_extension": ".py",
   "mimetype": "text/x-python",
   "name": "python",
   "nbconvert_exporter": "python",
   "pygments_lexer": "ipython3",
   "version": "3.8.10"
  },
  "toc": {
   "base_numbering": 1,
   "nav_menu": {},
   "number_sections": false,
   "sideBar": true,
   "skip_h1_title": true,
   "title_cell": "Table of Contents",
   "title_sidebar": "Contents",
   "toc_cell": false,
   "toc_position": {},
   "toc_section_display": true,
   "toc_window_display": true
  },
  "varInspector": {
   "cols": {
    "lenName": 16,
    "lenType": 16,
    "lenVar": 40
   },
   "kernels_config": {
    "python": {
     "delete_cmd_postfix": "",
     "delete_cmd_prefix": "del ",
     "library": "var_list.py",
     "varRefreshCmd": "print(var_dic_list())"
    },
    "r": {
     "delete_cmd_postfix": ") ",
     "delete_cmd_prefix": "rm(",
     "library": "var_list.r",
     "varRefreshCmd": "cat(var_dic_list()) "
    }
   },
   "types_to_exclude": [
    "module",
    "function",
    "builtin_function_or_method",
    "instance",
    "_Feature"
   ],
   "window_display": false
  }
 },
 "nbformat": 4,
 "nbformat_minor": 5
}
